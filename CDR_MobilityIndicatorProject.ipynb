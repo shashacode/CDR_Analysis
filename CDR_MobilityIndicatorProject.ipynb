{
 "cells": [
  {
   "cell_type": "markdown",
   "id": "4a48a69d-1011-4cf5-8fb4-63547edd8403",
   "metadata": {
    "tags": []
   },
   "source": [
    "# **CDR Project**: Variations in Subscribers Presence\n",
    "---\n",
    "<ins>Contact details: </ins>  \n",
    "Romain Goldenberg (MSc, PhD) - Data Trainer and Analyst  \n",
    "romain.goldenberg@flowminder.org - www.flowminder.org  \n",
    "This work © 2022 by Flowminder is licensed under CC BY-NC-ND 4.0. To view a copy of this licence, visit http://creativecommons.org/licenses/by-nc-nd/4.0/\n",
    "\n",
    "---\n",
    "If you want to learn more about the creation of aggregates and mobility indicators, go to [Flowminder COVID-19 ressources](https://covid19.flowminder.org/cdr-aggregates/cdr-aggregates-list-and-methods) or [Flowminder COVID-19 GitHub](https://github.com/Flowminder/COVID-19).\n",
    "\n",
    "---"
   ]
  },
  {
   "cell_type": "markdown",
   "id": "577dc638-9b06-4566-8ed4-31099e4c06f4",
   "metadata": {},
   "source": [
    "## 1. Description\n",
    "\n",
    "You are provided with a raw dataset, which contains a large subset of a larger CDR data records. This is of course sensitive data, as it contains commercial information from a mobile network operator (MNO) as well as individual, private, information. Being trusted by your clients, you received this dataset to perform a first data exploratory phase, as they want to understand different properties and characteristics of the data, as well as calculate some initial aggregates. Before starting this project, you understand from your clients that the cdr data you received covers a period of time with an event which significantly affected mobility in the country.  \n",
    "For this project, you will first need to explore, clean and re-structure the datasets. Then, when you have a good understanding of the (cleaned) data, produce some aggregates and a final mobility indicator."
   ]
  },
  {
   "cell_type": "markdown",
   "id": "da804238-9b96-44e3-9940-81ca4a853b74",
   "metadata": {},
   "source": [
    "---\n",
    "## 2. Getting started\n",
    "The complete dataset includes:\n",
    "`cdr_subset.csv`, a (relatively) large subset of CDR data records\n",
    "`cell_towers.geojson`, a dataset containing information on the cellular towers and their spatial location\n",
    "The folder `NPL_admin_boundaries`, which contains `NPL_admin_0.geojson`, `NPL_admin_1.geojson` and `NPL_admin_2.geojson`, administrative boundaries (with different spatial resolutions) for the country of Nepal.\n"
   ]
  },
  {
   "cell_type": "markdown",
   "id": "a30794e7-c063-420e-9681-5ca0d9f08414",
   "metadata": {
    "tags": []
   },
   "source": [
    "---\n",
    "# Part 1 - Data exploration and preparation\n",
    "To get started, we will first need to import the necessary Python libraries, set some data and folder paths, and finally import the 3 datasets."
   ]
  },
  {
   "cell_type": "markdown",
   "id": "efebf7d1-011f-46c1-a9e0-557ba06dc19b",
   "metadata": {},
   "source": [
    "# Libraries"
   ]
  },
  {
   "cell_type": "code",
   "execution_count": 1,
   "id": "97c3f757-c537-456f-98a7-80c803049ad8",
   "metadata": {},
   "outputs": [],
   "source": [
    "# from pathlib import Path\n",
    "\n",
    "# import contextily as cx  # Optional\n",
    "import geopandas as gpd\n",
    "import matplotlib.pyplot as plt\n",
    "import pandas as pd"
   ]
  },
  {
   "cell_type": "markdown",
   "id": "ef76ab4d-7fc6-4ee7-bc0b-ed10ce0bfab4",
   "metadata": {},
   "source": [
    "# Folders paths"
   ]
  },
  {
   "cell_type": "code",
   "execution_count": 2,
   "id": "2f804d60-5c27-4713-bfc9-559e4de3a7c2",
   "metadata": {},
   "outputs": [],
   "source": [
    "# # Current path of the data (to modify to your own filepath)\n",
    "# current_path = Path.cwd()\n",
    "# parent_path = current_path.parent"
   ]
  },
  {
   "cell_type": "markdown",
   "id": "0f03056f-08b0-41de-9025-cf89bf819d91",
   "metadata": {},
   "source": [
    "# Data loading"
   ]
  },
  {
   "cell_type": "code",
   "execution_count": 3,
   "id": "169ebc26-bb50-43ca-8794-c6ca25a1dd2c",
   "metadata": {},
   "outputs": [
    {
     "data": {
      "text/html": [
       "<div>\n",
       "<style scoped>\n",
       "    .dataframe tbody tr th:only-of-type {\n",
       "        vertical-align: middle;\n",
       "    }\n",
       "\n",
       "    .dataframe tbody tr th {\n",
       "        vertical-align: top;\n",
       "    }\n",
       "\n",
       "    .dataframe thead th {\n",
       "        text-align: right;\n",
       "    }\n",
       "</style>\n",
       "<table border=\"1\" class=\"dataframe\">\n",
       "  <thead>\n",
       "    <tr style=\"text-align: right;\">\n",
       "      <th></th>\n",
       "      <th>Unnamed: 0</th>\n",
       "      <th>id</th>\n",
       "      <th>outgoing</th>\n",
       "      <th>datetime</th>\n",
       "      <th>duration</th>\n",
       "      <th>network</th>\n",
       "      <th>msisdn</th>\n",
       "      <th>msisdn_counterpart</th>\n",
       "      <th>location_id</th>\n",
       "      <th>imsi</th>\n",
       "      <th>imei</th>\n",
       "      <th>tac</th>\n",
       "      <th>operator_code</th>\n",
       "      <th>country_code</th>\n",
       "      <th>call_date</th>\n",
       "    </tr>\n",
       "  </thead>\n",
       "  <tbody>\n",
       "    <tr>\n",
       "      <th>0</th>\n",
       "      <td>0</td>\n",
       "      <td>b8963c37-1699-4ee0-8d80-17e79ac4249c</td>\n",
       "      <td>t</td>\n",
       "      <td>2016-01-01 10:45:24.158813+00:00</td>\n",
       "      <td>1646</td>\n",
       "      <td>NaN</td>\n",
       "      <td>6599b02ffe5164b3f0bc63808b63414a</td>\n",
       "      <td>56622a73e1f5317cbcac7b773e053b95</td>\n",
       "      <td>95cc6baf49adb6bfe8541827b52f4606</td>\n",
       "      <td>255f33890339291baae8ae4d252da76d</td>\n",
       "      <td>ab2eb3bd2db3106312819a89eb9e5dec</td>\n",
       "      <td>17</td>\n",
       "      <td>NaN</td>\n",
       "      <td>NaN</td>\n",
       "      <td>2016-01-01</td>\n",
       "    </tr>\n",
       "    <tr>\n",
       "      <th>1</th>\n",
       "      <td>1</td>\n",
       "      <td>28934c1f-825a-4120-8885-818c6bb6b5a7</td>\n",
       "      <td>t</td>\n",
       "      <td>2016-01-01 04:20:50.782825+00:00</td>\n",
       "      <td>872</td>\n",
       "      <td>NaN</td>\n",
       "      <td>271d0ff97f5db99055a51271ea2da91c</td>\n",
       "      <td>1499602a771e74f7ba13eccdb7ab414e</td>\n",
       "      <td>1a09a6aff726f26f92bc8cd18c02dcef</td>\n",
       "      <td>458e7ffc512917dfc631b8d0d6fdad03</td>\n",
       "      <td>4366c901ca19cef095dc8a0773216c09</td>\n",
       "      <td>9</td>\n",
       "      <td>NaN</td>\n",
       "      <td>NaN</td>\n",
       "      <td>2016-01-01</td>\n",
       "    </tr>\n",
       "    <tr>\n",
       "      <th>2</th>\n",
       "      <td>2</td>\n",
       "      <td>02160a87-ad5f-4f69-b2d2-6593b1f8e50f</td>\n",
       "      <td>t</td>\n",
       "      <td>2016-01-01 05:28:17.746989+00:00</td>\n",
       "      <td>1486</td>\n",
       "      <td>NaN</td>\n",
       "      <td>9b636b3b9f0d4e8c88c195eaadb9e05e</td>\n",
       "      <td>db9813840ff3f21486e36acb4cea6814</td>\n",
       "      <td>f09543b192e77c6b293910fa58f63e9d</td>\n",
       "      <td>ccb870900822acc2f9d09b14cd460cf7</td>\n",
       "      <td>19d9c2f4744b7e91746e4e758f14f24f</td>\n",
       "      <td>13</td>\n",
       "      <td>NaN</td>\n",
       "      <td>NaN</td>\n",
       "      <td>2016-01-01</td>\n",
       "    </tr>\n",
       "    <tr>\n",
       "      <th>3</th>\n",
       "      <td>3</td>\n",
       "      <td>93e9ef42-adad-49e5-a83a-c4d907c1849c</td>\n",
       "      <td>t</td>\n",
       "      <td>2016-01-01 02:17:37.721142+00:00</td>\n",
       "      <td>1554</td>\n",
       "      <td>NaN</td>\n",
       "      <td>9c5c42f2685e73a0418017145b5c9937</td>\n",
       "      <td>ecf35b0006aff9707ce64480010a0954</td>\n",
       "      <td>d690bc731cb836090488894e497aecd9</td>\n",
       "      <td>d7ec6e06d5d41589d520ee4c09837c82</td>\n",
       "      <td>14edb480a90e91b9dd2c05c419c0d2be</td>\n",
       "      <td>10</td>\n",
       "      <td>NaN</td>\n",
       "      <td>NaN</td>\n",
       "      <td>2016-01-01</td>\n",
       "    </tr>\n",
       "    <tr>\n",
       "      <th>4</th>\n",
       "      <td>4</td>\n",
       "      <td>aea156be-61b9-4035-b0ac-a2e75fd9a601</td>\n",
       "      <td>t</td>\n",
       "      <td>2016-01-01 23:05:04.097218+00:00</td>\n",
       "      <td>2281</td>\n",
       "      <td>NaN</td>\n",
       "      <td>fabc01ef9b0a3107c1073b8b1c96aed4</td>\n",
       "      <td>ecf35b0006aff9707ce64480010a0954</td>\n",
       "      <td>2f178be611764586663f77e9eed75cea</td>\n",
       "      <td>24e3ca50ca26aaea99b88bc7d6039cf3</td>\n",
       "      <td>3b7c61584ebf3ca5cf46794be0d609db</td>\n",
       "      <td>12</td>\n",
       "      <td>NaN</td>\n",
       "      <td>NaN</td>\n",
       "      <td>2016-01-01</td>\n",
       "    </tr>\n",
       "  </tbody>\n",
       "</table>\n",
       "</div>"
      ],
      "text/plain": [
       "   Unnamed: 0                                    id outgoing  \\\n",
       "0           0  b8963c37-1699-4ee0-8d80-17e79ac4249c        t   \n",
       "1           1  28934c1f-825a-4120-8885-818c6bb6b5a7        t   \n",
       "2           2  02160a87-ad5f-4f69-b2d2-6593b1f8e50f        t   \n",
       "3           3  93e9ef42-adad-49e5-a83a-c4d907c1849c        t   \n",
       "4           4  aea156be-61b9-4035-b0ac-a2e75fd9a601        t   \n",
       "\n",
       "                           datetime  duration  network  \\\n",
       "0  2016-01-01 10:45:24.158813+00:00      1646      NaN   \n",
       "1  2016-01-01 04:20:50.782825+00:00       872      NaN   \n",
       "2  2016-01-01 05:28:17.746989+00:00      1486      NaN   \n",
       "3  2016-01-01 02:17:37.721142+00:00      1554      NaN   \n",
       "4  2016-01-01 23:05:04.097218+00:00      2281      NaN   \n",
       "\n",
       "                             msisdn                msisdn_counterpart  \\\n",
       "0  6599b02ffe5164b3f0bc63808b63414a  56622a73e1f5317cbcac7b773e053b95   \n",
       "1  271d0ff97f5db99055a51271ea2da91c  1499602a771e74f7ba13eccdb7ab414e   \n",
       "2  9b636b3b9f0d4e8c88c195eaadb9e05e  db9813840ff3f21486e36acb4cea6814   \n",
       "3  9c5c42f2685e73a0418017145b5c9937  ecf35b0006aff9707ce64480010a0954   \n",
       "4  fabc01ef9b0a3107c1073b8b1c96aed4  ecf35b0006aff9707ce64480010a0954   \n",
       "\n",
       "                        location_id                              imsi  \\\n",
       "0  95cc6baf49adb6bfe8541827b52f4606  255f33890339291baae8ae4d252da76d   \n",
       "1  1a09a6aff726f26f92bc8cd18c02dcef  458e7ffc512917dfc631b8d0d6fdad03   \n",
       "2  f09543b192e77c6b293910fa58f63e9d  ccb870900822acc2f9d09b14cd460cf7   \n",
       "3  d690bc731cb836090488894e497aecd9  d7ec6e06d5d41589d520ee4c09837c82   \n",
       "4  2f178be611764586663f77e9eed75cea  24e3ca50ca26aaea99b88bc7d6039cf3   \n",
       "\n",
       "                               imei  tac  operator_code  country_code  \\\n",
       "0  ab2eb3bd2db3106312819a89eb9e5dec   17            NaN           NaN   \n",
       "1  4366c901ca19cef095dc8a0773216c09    9            NaN           NaN   \n",
       "2  19d9c2f4744b7e91746e4e758f14f24f   13            NaN           NaN   \n",
       "3  14edb480a90e91b9dd2c05c419c0d2be   10            NaN           NaN   \n",
       "4  3b7c61584ebf3ca5cf46794be0d609db   12            NaN           NaN   \n",
       "\n",
       "    call_date  \n",
       "0  2016-01-01  \n",
       "1  2016-01-01  \n",
       "2  2016-01-01  \n",
       "3  2016-01-01  \n",
       "4  2016-01-01  "
      ]
     },
     "execution_count": 3,
     "metadata": {},
     "output_type": "execute_result"
    }
   ],
   "source": [
    "# Load the datasets\n",
    "cell_towers = gpd.read_file(\"cell_towers.geojson\")\n",
    "\n",
    "admin_0 = gpd.read_file(\"NPL_admin_0.geojson\")\n",
    "admin_1 = gpd.read_file(\"NPL_admin_1.geojson\")\n",
    "admin_2 = gpd.read_file(\"NPL_admin_2.geojson\")\n",
    "cdr= pd.read_csv(\"cdr_subset.csv\")\n",
    "cdr.head()"
   ]
  },
  {
   "cell_type": "code",
   "execution_count": 4,
   "id": "768afd20-3d54-424f-8726-ef429532252a",
   "metadata": {},
   "outputs": [
    {
     "name": "stdout",
     "output_type": "stream",
     "text": [
      "<class 'pandas.core.frame.DataFrame'>\n",
      "RangeIndex: 12400 entries, 0 to 12399\n",
      "Data columns (total 15 columns):\n",
      " #   Column              Non-Null Count  Dtype  \n",
      "---  ------              --------------  -----  \n",
      " 0   Unnamed: 0          12400 non-null  int64  \n",
      " 1   id                  12400 non-null  object \n",
      " 2   outgoing            12400 non-null  object \n",
      " 3   datetime            12400 non-null  object \n",
      " 4   duration            12400 non-null  int64  \n",
      " 5   network             0 non-null      float64\n",
      " 6   msisdn              12400 non-null  object \n",
      " 7   msisdn_counterpart  12400 non-null  object \n",
      " 8   location_id         12400 non-null  object \n",
      " 9   imsi                12400 non-null  object \n",
      " 10  imei                12400 non-null  object \n",
      " 11  tac                 12400 non-null  int64  \n",
      " 12  operator_code       0 non-null      float64\n",
      " 13  country_code        0 non-null      float64\n",
      " 14  call_date           12400 non-null  object \n",
      "dtypes: float64(3), int64(3), object(9)\n",
      "memory usage: 1.4+ MB\n"
     ]
    }
   ],
   "source": [
    "cdr.info()"
   ]
  },
  {
   "cell_type": "code",
   "execution_count": 5,
   "id": "ec334152-3887-42e9-b198-d067874189f3",
   "metadata": {},
   "outputs": [],
   "source": [
    "# Convert the column called 'datetime' to the data format datetime\n",
    "cdr.datetime = pd.to_datetime(cdr.datetime)\n",
    "\n",
    "# Add a date column (for convenience)\n",
    "cdr[\"call_date\"] = cdr.datetime.dt.date.astype(\"datetime64\")"
   ]
  },
  {
   "cell_type": "code",
   "execution_count": 6,
   "id": "2c788c72-ffd8-4d00-97d9-dd9dc4401fbb",
   "metadata": {},
   "outputs": [
    {
     "data": {
      "text/html": [
       "<div>\n",
       "<style scoped>\n",
       "    .dataframe tbody tr th:only-of-type {\n",
       "        vertical-align: middle;\n",
       "    }\n",
       "\n",
       "    .dataframe tbody tr th {\n",
       "        vertical-align: top;\n",
       "    }\n",
       "\n",
       "    .dataframe thead th {\n",
       "        text-align: right;\n",
       "    }\n",
       "</style>\n",
       "<table border=\"1\" class=\"dataframe\">\n",
       "  <thead>\n",
       "    <tr style=\"text-align: right;\">\n",
       "      <th></th>\n",
       "      <th>Unnamed: 0</th>\n",
       "      <th>id</th>\n",
       "      <th>outgoing</th>\n",
       "      <th>datetime</th>\n",
       "      <th>duration</th>\n",
       "      <th>network</th>\n",
       "      <th>msisdn</th>\n",
       "      <th>msisdn_counterpart</th>\n",
       "      <th>location_id</th>\n",
       "      <th>imsi</th>\n",
       "      <th>imei</th>\n",
       "      <th>tac</th>\n",
       "      <th>operator_code</th>\n",
       "      <th>country_code</th>\n",
       "      <th>call_date</th>\n",
       "    </tr>\n",
       "  </thead>\n",
       "  <tbody>\n",
       "    <tr>\n",
       "      <th>0</th>\n",
       "      <td>0</td>\n",
       "      <td>b8963c37-1699-4ee0-8d80-17e79ac4249c</td>\n",
       "      <td>t</td>\n",
       "      <td>2016-01-01 10:45:24.158813+00:00</td>\n",
       "      <td>1646</td>\n",
       "      <td>NaN</td>\n",
       "      <td>6599b02ffe5164b3f0bc63808b63414a</td>\n",
       "      <td>56622a73e1f5317cbcac7b773e053b95</td>\n",
       "      <td>95cc6baf49adb6bfe8541827b52f4606</td>\n",
       "      <td>255f33890339291baae8ae4d252da76d</td>\n",
       "      <td>ab2eb3bd2db3106312819a89eb9e5dec</td>\n",
       "      <td>17</td>\n",
       "      <td>NaN</td>\n",
       "      <td>NaN</td>\n",
       "      <td>2016-01-01</td>\n",
       "    </tr>\n",
       "    <tr>\n",
       "      <th>1</th>\n",
       "      <td>1</td>\n",
       "      <td>28934c1f-825a-4120-8885-818c6bb6b5a7</td>\n",
       "      <td>t</td>\n",
       "      <td>2016-01-01 04:20:50.782825+00:00</td>\n",
       "      <td>872</td>\n",
       "      <td>NaN</td>\n",
       "      <td>271d0ff97f5db99055a51271ea2da91c</td>\n",
       "      <td>1499602a771e74f7ba13eccdb7ab414e</td>\n",
       "      <td>1a09a6aff726f26f92bc8cd18c02dcef</td>\n",
       "      <td>458e7ffc512917dfc631b8d0d6fdad03</td>\n",
       "      <td>4366c901ca19cef095dc8a0773216c09</td>\n",
       "      <td>9</td>\n",
       "      <td>NaN</td>\n",
       "      <td>NaN</td>\n",
       "      <td>2016-01-01</td>\n",
       "    </tr>\n",
       "    <tr>\n",
       "      <th>2</th>\n",
       "      <td>2</td>\n",
       "      <td>02160a87-ad5f-4f69-b2d2-6593b1f8e50f</td>\n",
       "      <td>t</td>\n",
       "      <td>2016-01-01 05:28:17.746989+00:00</td>\n",
       "      <td>1486</td>\n",
       "      <td>NaN</td>\n",
       "      <td>9b636b3b9f0d4e8c88c195eaadb9e05e</td>\n",
       "      <td>db9813840ff3f21486e36acb4cea6814</td>\n",
       "      <td>f09543b192e77c6b293910fa58f63e9d</td>\n",
       "      <td>ccb870900822acc2f9d09b14cd460cf7</td>\n",
       "      <td>19d9c2f4744b7e91746e4e758f14f24f</td>\n",
       "      <td>13</td>\n",
       "      <td>NaN</td>\n",
       "      <td>NaN</td>\n",
       "      <td>2016-01-01</td>\n",
       "    </tr>\n",
       "    <tr>\n",
       "      <th>3</th>\n",
       "      <td>3</td>\n",
       "      <td>93e9ef42-adad-49e5-a83a-c4d907c1849c</td>\n",
       "      <td>t</td>\n",
       "      <td>2016-01-01 02:17:37.721142+00:00</td>\n",
       "      <td>1554</td>\n",
       "      <td>NaN</td>\n",
       "      <td>9c5c42f2685e73a0418017145b5c9937</td>\n",
       "      <td>ecf35b0006aff9707ce64480010a0954</td>\n",
       "      <td>d690bc731cb836090488894e497aecd9</td>\n",
       "      <td>d7ec6e06d5d41589d520ee4c09837c82</td>\n",
       "      <td>14edb480a90e91b9dd2c05c419c0d2be</td>\n",
       "      <td>10</td>\n",
       "      <td>NaN</td>\n",
       "      <td>NaN</td>\n",
       "      <td>2016-01-01</td>\n",
       "    </tr>\n",
       "    <tr>\n",
       "      <th>4</th>\n",
       "      <td>4</td>\n",
       "      <td>aea156be-61b9-4035-b0ac-a2e75fd9a601</td>\n",
       "      <td>t</td>\n",
       "      <td>2016-01-01 23:05:04.097218+00:00</td>\n",
       "      <td>2281</td>\n",
       "      <td>NaN</td>\n",
       "      <td>fabc01ef9b0a3107c1073b8b1c96aed4</td>\n",
       "      <td>ecf35b0006aff9707ce64480010a0954</td>\n",
       "      <td>2f178be611764586663f77e9eed75cea</td>\n",
       "      <td>24e3ca50ca26aaea99b88bc7d6039cf3</td>\n",
       "      <td>3b7c61584ebf3ca5cf46794be0d609db</td>\n",
       "      <td>12</td>\n",
       "      <td>NaN</td>\n",
       "      <td>NaN</td>\n",
       "      <td>2016-01-01</td>\n",
       "    </tr>\n",
       "    <tr>\n",
       "      <th>...</th>\n",
       "      <td>...</td>\n",
       "      <td>...</td>\n",
       "      <td>...</td>\n",
       "      <td>...</td>\n",
       "      <td>...</td>\n",
       "      <td>...</td>\n",
       "      <td>...</td>\n",
       "      <td>...</td>\n",
       "      <td>...</td>\n",
       "      <td>...</td>\n",
       "      <td>...</td>\n",
       "      <td>...</td>\n",
       "      <td>...</td>\n",
       "      <td>...</td>\n",
       "      <td>...</td>\n",
       "    </tr>\n",
       "    <tr>\n",
       "      <th>12395</th>\n",
       "      <td>12395</td>\n",
       "      <td>cd62485d-8c3f-423d-98f9-3ef7d634057f</td>\n",
       "      <td>f</td>\n",
       "      <td>2016-01-31 15:26:06.004810+00:00</td>\n",
       "      <td>1271</td>\n",
       "      <td>NaN</td>\n",
       "      <td>f85d6a426b1fcf2a39fd431169316b95</td>\n",
       "      <td>2ca4acaefffc1e5ccb5c6ce484f2ab40</td>\n",
       "      <td>fcd019e3bfcc7ba320573ea474e04cfd</td>\n",
       "      <td>02d01ce8bd8a166449701acf057127e8</td>\n",
       "      <td>8b45cd285ae50f9b64674d9175166ddb</td>\n",
       "      <td>13</td>\n",
       "      <td>NaN</td>\n",
       "      <td>NaN</td>\n",
       "      <td>2016-01-31</td>\n",
       "    </tr>\n",
       "    <tr>\n",
       "      <th>12396</th>\n",
       "      <td>12396</td>\n",
       "      <td>24ca7b51-bf11-4f35-a48d-87adb711a3e9</td>\n",
       "      <td>f</td>\n",
       "      <td>2016-01-31 22:41:47.660232+00:00</td>\n",
       "      <td>2038</td>\n",
       "      <td>NaN</td>\n",
       "      <td>4ef8709f3c0f043815a7ad1b9f46984c</td>\n",
       "      <td>60dc3bd5870b1c231929a3d9272550d7</td>\n",
       "      <td>5304941baf455d6b545db3815ef604dc</td>\n",
       "      <td>c06391cb02b3fd66ae69c282269bb5d2</td>\n",
       "      <td>8f65a2828a6bf414e5c6e150101fe0f5</td>\n",
       "      <td>19</td>\n",
       "      <td>NaN</td>\n",
       "      <td>NaN</td>\n",
       "      <td>2016-01-31</td>\n",
       "    </tr>\n",
       "    <tr>\n",
       "      <th>12397</th>\n",
       "      <td>12397</td>\n",
       "      <td>b1dcaea5-6ca5-4cc2-8792-aaf1da4a4c56</td>\n",
       "      <td>f</td>\n",
       "      <td>2016-01-31 10:36:28.693385+00:00</td>\n",
       "      <td>2582</td>\n",
       "      <td>NaN</td>\n",
       "      <td>83a89ab577145247dba4cc15291deb34</td>\n",
       "      <td>8cc5dcae76bc7e836aceeb7fa081eb7d</td>\n",
       "      <td>a4a46fd1d2d518b890211d6fb00aca93</td>\n",
       "      <td>27d07ea9164eaf6bbeb62df516f65227</td>\n",
       "      <td>a762d8c56c6dfd54a36b064eadc71d70</td>\n",
       "      <td>12</td>\n",
       "      <td>NaN</td>\n",
       "      <td>NaN</td>\n",
       "      <td>2016-01-31</td>\n",
       "    </tr>\n",
       "    <tr>\n",
       "      <th>12398</th>\n",
       "      <td>12398</td>\n",
       "      <td>3ac329f2-6074-4f0a-87dd-0c25caba2fd1</td>\n",
       "      <td>f</td>\n",
       "      <td>2016-01-31 05:47:31.854992+00:00</td>\n",
       "      <td>748</td>\n",
       "      <td>NaN</td>\n",
       "      <td>db15b008d5651f9b1deb5cc3aa3956be</td>\n",
       "      <td>67c8924931b4a84515bca92536a59f2c</td>\n",
       "      <td>05dea0f19026158ac28267bcbb6a806d</td>\n",
       "      <td>536e578341f8ce2857f3bc5c3acda7d6</td>\n",
       "      <td>b2fa9765c3b1ac38b29a5b8619fc5ff6</td>\n",
       "      <td>2</td>\n",
       "      <td>NaN</td>\n",
       "      <td>NaN</td>\n",
       "      <td>2016-01-31</td>\n",
       "    </tr>\n",
       "    <tr>\n",
       "      <th>12399</th>\n",
       "      <td>12399</td>\n",
       "      <td>d51d1b26-bc74-4b65-b64f-38bd1e1fefe1</td>\n",
       "      <td>f</td>\n",
       "      <td>2016-01-31 08:27:02.067242+00:00</td>\n",
       "      <td>2495</td>\n",
       "      <td>NaN</td>\n",
       "      <td>db15b008d5651f9b1deb5cc3aa3956be</td>\n",
       "      <td>67c8924931b4a84515bca92536a59f2c</td>\n",
       "      <td>05dea0f19026158ac28267bcbb6a806d</td>\n",
       "      <td>536e578341f8ce2857f3bc5c3acda7d6</td>\n",
       "      <td>b2fa9765c3b1ac38b29a5b8619fc5ff6</td>\n",
       "      <td>2</td>\n",
       "      <td>NaN</td>\n",
       "      <td>NaN</td>\n",
       "      <td>2016-01-31</td>\n",
       "    </tr>\n",
       "  </tbody>\n",
       "</table>\n",
       "<p>12400 rows × 15 columns</p>\n",
       "</div>"
      ],
      "text/plain": [
       "       Unnamed: 0                                    id outgoing  \\\n",
       "0               0  b8963c37-1699-4ee0-8d80-17e79ac4249c        t   \n",
       "1               1  28934c1f-825a-4120-8885-818c6bb6b5a7        t   \n",
       "2               2  02160a87-ad5f-4f69-b2d2-6593b1f8e50f        t   \n",
       "3               3  93e9ef42-adad-49e5-a83a-c4d907c1849c        t   \n",
       "4               4  aea156be-61b9-4035-b0ac-a2e75fd9a601        t   \n",
       "...           ...                                   ...      ...   \n",
       "12395       12395  cd62485d-8c3f-423d-98f9-3ef7d634057f        f   \n",
       "12396       12396  24ca7b51-bf11-4f35-a48d-87adb711a3e9        f   \n",
       "12397       12397  b1dcaea5-6ca5-4cc2-8792-aaf1da4a4c56        f   \n",
       "12398       12398  3ac329f2-6074-4f0a-87dd-0c25caba2fd1        f   \n",
       "12399       12399  d51d1b26-bc74-4b65-b64f-38bd1e1fefe1        f   \n",
       "\n",
       "                              datetime  duration  network  \\\n",
       "0     2016-01-01 10:45:24.158813+00:00      1646      NaN   \n",
       "1     2016-01-01 04:20:50.782825+00:00       872      NaN   \n",
       "2     2016-01-01 05:28:17.746989+00:00      1486      NaN   \n",
       "3     2016-01-01 02:17:37.721142+00:00      1554      NaN   \n",
       "4     2016-01-01 23:05:04.097218+00:00      2281      NaN   \n",
       "...                                ...       ...      ...   \n",
       "12395 2016-01-31 15:26:06.004810+00:00      1271      NaN   \n",
       "12396 2016-01-31 22:41:47.660232+00:00      2038      NaN   \n",
       "12397 2016-01-31 10:36:28.693385+00:00      2582      NaN   \n",
       "12398 2016-01-31 05:47:31.854992+00:00       748      NaN   \n",
       "12399 2016-01-31 08:27:02.067242+00:00      2495      NaN   \n",
       "\n",
       "                                 msisdn                msisdn_counterpart  \\\n",
       "0      6599b02ffe5164b3f0bc63808b63414a  56622a73e1f5317cbcac7b773e053b95   \n",
       "1      271d0ff97f5db99055a51271ea2da91c  1499602a771e74f7ba13eccdb7ab414e   \n",
       "2      9b636b3b9f0d4e8c88c195eaadb9e05e  db9813840ff3f21486e36acb4cea6814   \n",
       "3      9c5c42f2685e73a0418017145b5c9937  ecf35b0006aff9707ce64480010a0954   \n",
       "4      fabc01ef9b0a3107c1073b8b1c96aed4  ecf35b0006aff9707ce64480010a0954   \n",
       "...                                 ...                               ...   \n",
       "12395  f85d6a426b1fcf2a39fd431169316b95  2ca4acaefffc1e5ccb5c6ce484f2ab40   \n",
       "12396  4ef8709f3c0f043815a7ad1b9f46984c  60dc3bd5870b1c231929a3d9272550d7   \n",
       "12397  83a89ab577145247dba4cc15291deb34  8cc5dcae76bc7e836aceeb7fa081eb7d   \n",
       "12398  db15b008d5651f9b1deb5cc3aa3956be  67c8924931b4a84515bca92536a59f2c   \n",
       "12399  db15b008d5651f9b1deb5cc3aa3956be  67c8924931b4a84515bca92536a59f2c   \n",
       "\n",
       "                            location_id                              imsi  \\\n",
       "0      95cc6baf49adb6bfe8541827b52f4606  255f33890339291baae8ae4d252da76d   \n",
       "1      1a09a6aff726f26f92bc8cd18c02dcef  458e7ffc512917dfc631b8d0d6fdad03   \n",
       "2      f09543b192e77c6b293910fa58f63e9d  ccb870900822acc2f9d09b14cd460cf7   \n",
       "3      d690bc731cb836090488894e497aecd9  d7ec6e06d5d41589d520ee4c09837c82   \n",
       "4      2f178be611764586663f77e9eed75cea  24e3ca50ca26aaea99b88bc7d6039cf3   \n",
       "...                                 ...                               ...   \n",
       "12395  fcd019e3bfcc7ba320573ea474e04cfd  02d01ce8bd8a166449701acf057127e8   \n",
       "12396  5304941baf455d6b545db3815ef604dc  c06391cb02b3fd66ae69c282269bb5d2   \n",
       "12397  a4a46fd1d2d518b890211d6fb00aca93  27d07ea9164eaf6bbeb62df516f65227   \n",
       "12398  05dea0f19026158ac28267bcbb6a806d  536e578341f8ce2857f3bc5c3acda7d6   \n",
       "12399  05dea0f19026158ac28267bcbb6a806d  536e578341f8ce2857f3bc5c3acda7d6   \n",
       "\n",
       "                                   imei  tac  operator_code  country_code  \\\n",
       "0      ab2eb3bd2db3106312819a89eb9e5dec   17            NaN           NaN   \n",
       "1      4366c901ca19cef095dc8a0773216c09    9            NaN           NaN   \n",
       "2      19d9c2f4744b7e91746e4e758f14f24f   13            NaN           NaN   \n",
       "3      14edb480a90e91b9dd2c05c419c0d2be   10            NaN           NaN   \n",
       "4      3b7c61584ebf3ca5cf46794be0d609db   12            NaN           NaN   \n",
       "...                                 ...  ...            ...           ...   \n",
       "12395  8b45cd285ae50f9b64674d9175166ddb   13            NaN           NaN   \n",
       "12396  8f65a2828a6bf414e5c6e150101fe0f5   19            NaN           NaN   \n",
       "12397  a762d8c56c6dfd54a36b064eadc71d70   12            NaN           NaN   \n",
       "12398  b2fa9765c3b1ac38b29a5b8619fc5ff6    2            NaN           NaN   \n",
       "12399  b2fa9765c3b1ac38b29a5b8619fc5ff6    2            NaN           NaN   \n",
       "\n",
       "       call_date  \n",
       "0     2016-01-01  \n",
       "1     2016-01-01  \n",
       "2     2016-01-01  \n",
       "3     2016-01-01  \n",
       "4     2016-01-01  \n",
       "...          ...  \n",
       "12395 2016-01-31  \n",
       "12396 2016-01-31  \n",
       "12397 2016-01-31  \n",
       "12398 2016-01-31  \n",
       "12399 2016-01-31  \n",
       "\n",
       "[12400 rows x 15 columns]"
      ]
     },
     "execution_count": 6,
     "metadata": {},
     "output_type": "execute_result"
    }
   ],
   "source": [
    "cdr"
   ]
  },
  {
   "cell_type": "markdown",
   "id": "dd7a46e5-7cee-41af-87dc-23b590c23f99",
   "metadata": {},
   "source": [
    "### 1. What is the structure of the cdr and cell_towers datasets?"
   ]
  },
  {
   "cell_type": "code",
   "execution_count": 7,
   "id": "42c18afe-eabe-47ae-ba06-c781b3d8ac12",
   "metadata": {},
   "outputs": [
    {
     "data": {
      "text/html": [
       "<div>\n",
       "<style scoped>\n",
       "    .dataframe tbody tr th:only-of-type {\n",
       "        vertical-align: middle;\n",
       "    }\n",
       "\n",
       "    .dataframe tbody tr th {\n",
       "        vertical-align: top;\n",
       "    }\n",
       "\n",
       "    .dataframe thead th {\n",
       "        text-align: right;\n",
       "    }\n",
       "</style>\n",
       "<table border=\"1\" class=\"dataframe\">\n",
       "  <thead>\n",
       "    <tr style=\"text-align: right;\">\n",
       "      <th></th>\n",
       "      <th>Unnamed: 0</th>\n",
       "      <th>id</th>\n",
       "      <th>outgoing</th>\n",
       "      <th>datetime</th>\n",
       "      <th>duration</th>\n",
       "      <th>network</th>\n",
       "      <th>msisdn</th>\n",
       "      <th>msisdn_counterpart</th>\n",
       "      <th>location_id</th>\n",
       "      <th>imsi</th>\n",
       "      <th>imei</th>\n",
       "      <th>tac</th>\n",
       "      <th>operator_code</th>\n",
       "      <th>country_code</th>\n",
       "      <th>call_date</th>\n",
       "    </tr>\n",
       "  </thead>\n",
       "  <tbody>\n",
       "    <tr>\n",
       "      <th>11987</th>\n",
       "      <td>11987</td>\n",
       "      <td>001a0b1f-77b4-43a6-b127-0142a717560e</td>\n",
       "      <td>f</td>\n",
       "      <td>2016-01-30 21:52:29.432035+00:00</td>\n",
       "      <td>2265</td>\n",
       "      <td>NaN</td>\n",
       "      <td>ac257f6377cc98cbdc95fedcae5955ce</td>\n",
       "      <td>56c4e98612d19b2843620f2462b12c27</td>\n",
       "      <td>db70b323d536ee50dd27ae50342424c9</td>\n",
       "      <td>d74391254ecda636eb9dd9584b9d9b42</td>\n",
       "      <td>b8885af6406e1b5a48a1e201a823466c</td>\n",
       "      <td>9</td>\n",
       "      <td>NaN</td>\n",
       "      <td>NaN</td>\n",
       "      <td>2016-01-30</td>\n",
       "    </tr>\n",
       "    <tr>\n",
       "      <th>11787</th>\n",
       "      <td>11787</td>\n",
       "      <td>001a0b1f-77b4-43a6-b127-0142a717560e</td>\n",
       "      <td>t</td>\n",
       "      <td>2016-01-30 21:52:29.432035+00:00</td>\n",
       "      <td>2265</td>\n",
       "      <td>NaN</td>\n",
       "      <td>56c4e98612d19b2843620f2462b12c27</td>\n",
       "      <td>ac257f6377cc98cbdc95fedcae5955ce</td>\n",
       "      <td>d690bc731cb836090488894e497aecd9</td>\n",
       "      <td>afb077223f47067adc7ed85a9a86ac61</td>\n",
       "      <td>c0d371ca6fbe6027dbba0e064feb822c</td>\n",
       "      <td>13</td>\n",
       "      <td>NaN</td>\n",
       "      <td>NaN</td>\n",
       "      <td>2016-01-30</td>\n",
       "    </tr>\n",
       "    <tr>\n",
       "      <th>218</th>\n",
       "      <td>218</td>\n",
       "      <td>002af082-41c0-4648-a6ef-dd09d1ed8503</td>\n",
       "      <td>f</td>\n",
       "      <td>2016-01-01 21:03:28.650439+00:00</td>\n",
       "      <td>1089</td>\n",
       "      <td>NaN</td>\n",
       "      <td>c1300678466c950e8db1778890df653d</td>\n",
       "      <td>dfe8ee27b1a77bbc29437a1fb558bb92</td>\n",
       "      <td>0d0941512dfa5c2a8c7a7a3b8e23c6d0</td>\n",
       "      <td>bfd75395cabda1812b42fda0e3836b85</td>\n",
       "      <td>ac98ad490a7eddc7ff4c9409de0c60fa</td>\n",
       "      <td>15</td>\n",
       "      <td>NaN</td>\n",
       "      <td>NaN</td>\n",
       "      <td>2016-01-01</td>\n",
       "    </tr>\n",
       "    <tr>\n",
       "      <th>18</th>\n",
       "      <td>18</td>\n",
       "      <td>002af082-41c0-4648-a6ef-dd09d1ed8503</td>\n",
       "      <td>t</td>\n",
       "      <td>2016-01-01 21:03:28.650439+00:00</td>\n",
       "      <td>1089</td>\n",
       "      <td>NaN</td>\n",
       "      <td>dfe8ee27b1a77bbc29437a1fb558bb92</td>\n",
       "      <td>c1300678466c950e8db1778890df653d</td>\n",
       "      <td>ae247cf9d07d5634a4044a03f2b262d7</td>\n",
       "      <td>9dd25216e09ac41c0799485dd89ae4cb</td>\n",
       "      <td>5f09bfd50871414ab39170e89e18254c</td>\n",
       "      <td>14</td>\n",
       "      <td>NaN</td>\n",
       "      <td>NaN</td>\n",
       "      <td>2016-01-01</td>\n",
       "    </tr>\n",
       "    <tr>\n",
       "      <th>2447</th>\n",
       "      <td>2447</td>\n",
       "      <td>003299ee-6930-4fd8-ad79-1f4a0f8373c7</td>\n",
       "      <td>t</td>\n",
       "      <td>2016-01-06 22:08:55.590121+00:00</td>\n",
       "      <td>24</td>\n",
       "      <td>NaN</td>\n",
       "      <td>96ec8f223f646af2d77a0c2238cac0ff</td>\n",
       "      <td>8fdb632a275838ba6c0f39d7352cbd57</td>\n",
       "      <td>0367633471fe38c64e948661405ef317</td>\n",
       "      <td>02615ac164ee1442275bc45eca2422e3</td>\n",
       "      <td>5b4bab9b107f9e2c944f1bd03b66d648</td>\n",
       "      <td>16</td>\n",
       "      <td>NaN</td>\n",
       "      <td>NaN</td>\n",
       "      <td>2016-01-06</td>\n",
       "    </tr>\n",
       "    <tr>\n",
       "      <th>2647</th>\n",
       "      <td>2647</td>\n",
       "      <td>003299ee-6930-4fd8-ad79-1f4a0f8373c7</td>\n",
       "      <td>f</td>\n",
       "      <td>2016-01-06 22:08:55.590121+00:00</td>\n",
       "      <td>24</td>\n",
       "      <td>NaN</td>\n",
       "      <td>8fdb632a275838ba6c0f39d7352cbd57</td>\n",
       "      <td>96ec8f223f646af2d77a0c2238cac0ff</td>\n",
       "      <td>b330457e8f51377f36ec9b15afe1b720</td>\n",
       "      <td>fbec4155ecf1097426120f66badf47cd</td>\n",
       "      <td>5404367ac1d6cc279ae15e3fc72d556b</td>\n",
       "      <td>1</td>\n",
       "      <td>NaN</td>\n",
       "      <td>NaN</td>\n",
       "      <td>2016-01-06</td>\n",
       "    </tr>\n",
       "  </tbody>\n",
       "</table>\n",
       "</div>"
      ],
      "text/plain": [
       "       Unnamed: 0                                    id outgoing  \\\n",
       "11987       11987  001a0b1f-77b4-43a6-b127-0142a717560e        f   \n",
       "11787       11787  001a0b1f-77b4-43a6-b127-0142a717560e        t   \n",
       "218           218  002af082-41c0-4648-a6ef-dd09d1ed8503        f   \n",
       "18             18  002af082-41c0-4648-a6ef-dd09d1ed8503        t   \n",
       "2447         2447  003299ee-6930-4fd8-ad79-1f4a0f8373c7        t   \n",
       "2647         2647  003299ee-6930-4fd8-ad79-1f4a0f8373c7        f   \n",
       "\n",
       "                              datetime  duration  network  \\\n",
       "11987 2016-01-30 21:52:29.432035+00:00      2265      NaN   \n",
       "11787 2016-01-30 21:52:29.432035+00:00      2265      NaN   \n",
       "218   2016-01-01 21:03:28.650439+00:00      1089      NaN   \n",
       "18    2016-01-01 21:03:28.650439+00:00      1089      NaN   \n",
       "2447  2016-01-06 22:08:55.590121+00:00        24      NaN   \n",
       "2647  2016-01-06 22:08:55.590121+00:00        24      NaN   \n",
       "\n",
       "                                 msisdn                msisdn_counterpart  \\\n",
       "11987  ac257f6377cc98cbdc95fedcae5955ce  56c4e98612d19b2843620f2462b12c27   \n",
       "11787  56c4e98612d19b2843620f2462b12c27  ac257f6377cc98cbdc95fedcae5955ce   \n",
       "218    c1300678466c950e8db1778890df653d  dfe8ee27b1a77bbc29437a1fb558bb92   \n",
       "18     dfe8ee27b1a77bbc29437a1fb558bb92  c1300678466c950e8db1778890df653d   \n",
       "2447   96ec8f223f646af2d77a0c2238cac0ff  8fdb632a275838ba6c0f39d7352cbd57   \n",
       "2647   8fdb632a275838ba6c0f39d7352cbd57  96ec8f223f646af2d77a0c2238cac0ff   \n",
       "\n",
       "                            location_id                              imsi  \\\n",
       "11987  db70b323d536ee50dd27ae50342424c9  d74391254ecda636eb9dd9584b9d9b42   \n",
       "11787  d690bc731cb836090488894e497aecd9  afb077223f47067adc7ed85a9a86ac61   \n",
       "218    0d0941512dfa5c2a8c7a7a3b8e23c6d0  bfd75395cabda1812b42fda0e3836b85   \n",
       "18     ae247cf9d07d5634a4044a03f2b262d7  9dd25216e09ac41c0799485dd89ae4cb   \n",
       "2447   0367633471fe38c64e948661405ef317  02615ac164ee1442275bc45eca2422e3   \n",
       "2647   b330457e8f51377f36ec9b15afe1b720  fbec4155ecf1097426120f66badf47cd   \n",
       "\n",
       "                                   imei  tac  operator_code  country_code  \\\n",
       "11987  b8885af6406e1b5a48a1e201a823466c    9            NaN           NaN   \n",
       "11787  c0d371ca6fbe6027dbba0e064feb822c   13            NaN           NaN   \n",
       "218    ac98ad490a7eddc7ff4c9409de0c60fa   15            NaN           NaN   \n",
       "18     5f09bfd50871414ab39170e89e18254c   14            NaN           NaN   \n",
       "2447   5b4bab9b107f9e2c944f1bd03b66d648   16            NaN           NaN   \n",
       "2647   5404367ac1d6cc279ae15e3fc72d556b    1            NaN           NaN   \n",
       "\n",
       "       call_date  \n",
       "11987 2016-01-30  \n",
       "11787 2016-01-30  \n",
       "218   2016-01-01  \n",
       "18    2016-01-01  \n",
       "2447  2016-01-06  \n",
       "2647  2016-01-06  "
      ]
     },
     "metadata": {},
     "output_type": "display_data"
    },
    {
     "name": "stdout",
     "output_type": "stream",
     "text": [
      "<class 'pandas.core.frame.DataFrame'>\n",
      "RangeIndex: 12400 entries, 0 to 12399\n",
      "Data columns (total 15 columns):\n",
      " #   Column              Non-Null Count  Dtype              \n",
      "---  ------              --------------  -----              \n",
      " 0   Unnamed: 0          12400 non-null  int64              \n",
      " 1   id                  12400 non-null  object             \n",
      " 2   outgoing            12400 non-null  object             \n",
      " 3   datetime            12400 non-null  datetime64[ns, UTC]\n",
      " 4   duration            12400 non-null  int64              \n",
      " 5   network             0 non-null      float64            \n",
      " 6   msisdn              12400 non-null  object             \n",
      " 7   msisdn_counterpart  12400 non-null  object             \n",
      " 8   location_id         12400 non-null  object             \n",
      " 9   imsi                12400 non-null  object             \n",
      " 10  imei                12400 non-null  object             \n",
      " 11  tac                 12400 non-null  int64              \n",
      " 12  operator_code       0 non-null      float64            \n",
      " 13  country_code        0 non-null      float64            \n",
      " 14  call_date           12400 non-null  datetime64[ns]     \n",
      "dtypes: datetime64[ns, UTC](1), datetime64[ns](1), float64(3), int64(3), object(7)\n",
      "memory usage: 1.4+ MB\n"
     ]
    }
   ],
   "source": [
    "display(cdr.sort_values(by=\"id\").head(6))\n",
    "cdr.info()"
   ]
  },
  {
   "cell_type": "code",
   "execution_count": 8,
   "id": "06c81436-0b43-4b75-93e3-77e49b0f11e7",
   "metadata": {},
   "outputs": [
    {
     "data": {
      "text/html": [
       "<div>\n",
       "<style scoped>\n",
       "    .dataframe tbody tr th:only-of-type {\n",
       "        vertical-align: middle;\n",
       "    }\n",
       "\n",
       "    .dataframe tbody tr th {\n",
       "        vertical-align: top;\n",
       "    }\n",
       "\n",
       "    .dataframe thead th {\n",
       "        text-align: right;\n",
       "    }\n",
       "</style>\n",
       "<table border=\"1\" class=\"dataframe\">\n",
       "  <thead>\n",
       "    <tr style=\"text-align: right;\">\n",
       "      <th></th>\n",
       "      <th>Unnamed: 0</th>\n",
       "      <th>id</th>\n",
       "      <th>outgoing</th>\n",
       "      <th>datetime</th>\n",
       "      <th>duration</th>\n",
       "      <th>network</th>\n",
       "      <th>msisdn</th>\n",
       "      <th>msisdn_counterpart</th>\n",
       "      <th>location_id</th>\n",
       "      <th>imsi</th>\n",
       "      <th>imei</th>\n",
       "      <th>tac</th>\n",
       "      <th>operator_code</th>\n",
       "      <th>country_code</th>\n",
       "      <th>call_date</th>\n",
       "    </tr>\n",
       "  </thead>\n",
       "  <tbody>\n",
       "    <tr>\n",
       "      <th>8793</th>\n",
       "      <td>8793</td>\n",
       "      <td>11200918-26d6-4068-9dca-1b7c21bd5265</td>\n",
       "      <td>f</td>\n",
       "      <td>2016-01-20 16:53:22.950673+00:00</td>\n",
       "      <td>2323</td>\n",
       "      <td>NaN</td>\n",
       "      <td>010848f9298ef06a00a980a17ceef816</td>\n",
       "      <td>dfb98388863e5638d6b6e96dc790a7de</td>\n",
       "      <td>470ed0c2dcceb4e6843f94549bcac0c8</td>\n",
       "      <td>bf9e80bd64cb0920e3931bbe2e1191af</td>\n",
       "      <td>0d115aac2704d529142d2b386d97a4b6</td>\n",
       "      <td>2</td>\n",
       "      <td>NaN</td>\n",
       "      <td>NaN</td>\n",
       "      <td>2016-01-20</td>\n",
       "    </tr>\n",
       "    <tr>\n",
       "      <th>5992</th>\n",
       "      <td>5992</td>\n",
       "      <td>5344c2ae-131b-4260-a5e2-c1ac642c59a1</td>\n",
       "      <td>f</td>\n",
       "      <td>2016-01-14 17:28:47.920411+00:00</td>\n",
       "      <td>846</td>\n",
       "      <td>NaN</td>\n",
       "      <td>010848f9298ef06a00a980a17ceef816</td>\n",
       "      <td>30ed08ba3ab18c21ef2a9ce8444bdc4e</td>\n",
       "      <td>470ed0c2dcceb4e6843f94549bcac0c8</td>\n",
       "      <td>bf9e80bd64cb0920e3931bbe2e1191af</td>\n",
       "      <td>0d115aac2704d529142d2b386d97a4b6</td>\n",
       "      <td>2</td>\n",
       "      <td>NaN</td>\n",
       "      <td>NaN</td>\n",
       "      <td>2016-01-14</td>\n",
       "    </tr>\n",
       "    <tr>\n",
       "      <th>4161</th>\n",
       "      <td>4161</td>\n",
       "      <td>22633e6e-0c8c-460d-8a6d-23ea300ca4b6</td>\n",
       "      <td>t</td>\n",
       "      <td>2016-01-11 17:56:34.088754+00:00</td>\n",
       "      <td>1450</td>\n",
       "      <td>NaN</td>\n",
       "      <td>010848f9298ef06a00a980a17ceef816</td>\n",
       "      <td>ca97bd4addf4a1924542517004a71db5</td>\n",
       "      <td>470ed0c2dcceb4e6843f94549bcac0c8</td>\n",
       "      <td>bf9e80bd64cb0920e3931bbe2e1191af</td>\n",
       "      <td>0d115aac2704d529142d2b386d97a4b6</td>\n",
       "      <td>2</td>\n",
       "      <td>NaN</td>\n",
       "      <td>NaN</td>\n",
       "      <td>2016-01-11</td>\n",
       "    </tr>\n",
       "    <tr>\n",
       "      <th>4892</th>\n",
       "      <td>4892</td>\n",
       "      <td>ba6d4f13-8ef2-462c-906e-1c54ab892c68</td>\n",
       "      <td>t</td>\n",
       "      <td>2016-01-13 12:40:53.309122+00:00</td>\n",
       "      <td>2016</td>\n",
       "      <td>NaN</td>\n",
       "      <td>010848f9298ef06a00a980a17ceef816</td>\n",
       "      <td>30ed08ba3ab18c21ef2a9ce8444bdc4e</td>\n",
       "      <td>470ed0c2dcceb4e6843f94549bcac0c8</td>\n",
       "      <td>bf9e80bd64cb0920e3931bbe2e1191af</td>\n",
       "      <td>0d115aac2704d529142d2b386d97a4b6</td>\n",
       "      <td>2</td>\n",
       "      <td>NaN</td>\n",
       "      <td>NaN</td>\n",
       "      <td>2016-01-13</td>\n",
       "    </tr>\n",
       "    <tr>\n",
       "      <th>7756</th>\n",
       "      <td>7756</td>\n",
       "      <td>0de88230-d7fb-4ca2-b230-38a828f14fdf</td>\n",
       "      <td>t</td>\n",
       "      <td>2016-01-21 16:00:21.324126+00:00</td>\n",
       "      <td>1926</td>\n",
       "      <td>NaN</td>\n",
       "      <td>010848f9298ef06a00a980a17ceef816</td>\n",
       "      <td>ca97bd4addf4a1924542517004a71db5</td>\n",
       "      <td>470ed0c2dcceb4e6843f94549bcac0c8</td>\n",
       "      <td>bf9e80bd64cb0920e3931bbe2e1191af</td>\n",
       "      <td>0d115aac2704d529142d2b386d97a4b6</td>\n",
       "      <td>2</td>\n",
       "      <td>NaN</td>\n",
       "      <td>NaN</td>\n",
       "      <td>2016-01-21</td>\n",
       "    </tr>\n",
       "    <tr>\n",
       "      <th>8092</th>\n",
       "      <td>8092</td>\n",
       "      <td>9a5bc656-86c7-47d8-9058-d0db5cc5cb40</td>\n",
       "      <td>t</td>\n",
       "      <td>2016-01-22 11:07:50.490049+00:00</td>\n",
       "      <td>859</td>\n",
       "      <td>NaN</td>\n",
       "      <td>010848f9298ef06a00a980a17ceef816</td>\n",
       "      <td>30ed08ba3ab18c21ef2a9ce8444bdc4e</td>\n",
       "      <td>470ed0c2dcceb4e6843f94549bcac0c8</td>\n",
       "      <td>bf9e80bd64cb0920e3931bbe2e1191af</td>\n",
       "      <td>0d115aac2704d529142d2b386d97a4b6</td>\n",
       "      <td>2</td>\n",
       "      <td>NaN</td>\n",
       "      <td>NaN</td>\n",
       "      <td>2016-01-22</td>\n",
       "    </tr>\n",
       "    <tr>\n",
       "      <th>7187</th>\n",
       "      <td>7187</td>\n",
       "      <td>46fcfce6-e78c-4861-80f5-e9c620b8e7ee</td>\n",
       "      <td>f</td>\n",
       "      <td>2016-01-18 11:45:39.353432+00:00</td>\n",
       "      <td>99</td>\n",
       "      <td>NaN</td>\n",
       "      <td>010848f9298ef06a00a980a17ceef816</td>\n",
       "      <td>6f5c3d6136d38f439b59a9eb83241e41</td>\n",
       "      <td>470ed0c2dcceb4e6843f94549bcac0c8</td>\n",
       "      <td>bf9e80bd64cb0920e3931bbe2e1191af</td>\n",
       "      <td>0d115aac2704d529142d2b386d97a4b6</td>\n",
       "      <td>2</td>\n",
       "      <td>NaN</td>\n",
       "      <td>NaN</td>\n",
       "      <td>2016-01-18</td>\n",
       "    </tr>\n",
       "    <tr>\n",
       "      <th>4103</th>\n",
       "      <td>4103</td>\n",
       "      <td>026a57fc-716a-4cfb-8af6-75dbfbf3871a</td>\n",
       "      <td>t</td>\n",
       "      <td>2016-01-11 02:02:43.525643+00:00</td>\n",
       "      <td>612</td>\n",
       "      <td>NaN</td>\n",
       "      <td>010848f9298ef06a00a980a17ceef816</td>\n",
       "      <td>30ed08ba3ab18c21ef2a9ce8444bdc4e</td>\n",
       "      <td>470ed0c2dcceb4e6843f94549bcac0c8</td>\n",
       "      <td>bf9e80bd64cb0920e3931bbe2e1191af</td>\n",
       "      <td>0d115aac2704d529142d2b386d97a4b6</td>\n",
       "      <td>2</td>\n",
       "      <td>NaN</td>\n",
       "      <td>NaN</td>\n",
       "      <td>2016-01-11</td>\n",
       "    </tr>\n",
       "    <tr>\n",
       "      <th>92</th>\n",
       "      <td>92</td>\n",
       "      <td>9be95d01-35c8-4702-86eb-54ca340c2e2a</td>\n",
       "      <td>t</td>\n",
       "      <td>2016-01-01 20:53:03.609418+00:00</td>\n",
       "      <td>449</td>\n",
       "      <td>NaN</td>\n",
       "      <td>010848f9298ef06a00a980a17ceef816</td>\n",
       "      <td>30ed08ba3ab18c21ef2a9ce8444bdc4e</td>\n",
       "      <td>470ed0c2dcceb4e6843f94549bcac0c8</td>\n",
       "      <td>bf9e80bd64cb0920e3931bbe2e1191af</td>\n",
       "      <td>0d115aac2704d529142d2b386d97a4b6</td>\n",
       "      <td>2</td>\n",
       "      <td>NaN</td>\n",
       "      <td>NaN</td>\n",
       "      <td>2016-01-01</td>\n",
       "    </tr>\n",
       "    <tr>\n",
       "      <th>3994</th>\n",
       "      <td>3994</td>\n",
       "      <td>7a3e823e-e45e-4c76-ad3e-99217d642b26</td>\n",
       "      <td>f</td>\n",
       "      <td>2016-01-10 10:53:34.530195+00:00</td>\n",
       "      <td>1955</td>\n",
       "      <td>NaN</td>\n",
       "      <td>010848f9298ef06a00a980a17ceef816</td>\n",
       "      <td>fb3b762f53bfcc32dcd3f4139e301786</td>\n",
       "      <td>470ed0c2dcceb4e6843f94549bcac0c8</td>\n",
       "      <td>bf9e80bd64cb0920e3931bbe2e1191af</td>\n",
       "      <td>0d115aac2704d529142d2b386d97a4b6</td>\n",
       "      <td>2</td>\n",
       "      <td>NaN</td>\n",
       "      <td>NaN</td>\n",
       "      <td>2016-01-10</td>\n",
       "    </tr>\n",
       "  </tbody>\n",
       "</table>\n",
       "</div>"
      ],
      "text/plain": [
       "      Unnamed: 0                                    id outgoing  \\\n",
       "8793        8793  11200918-26d6-4068-9dca-1b7c21bd5265        f   \n",
       "5992        5992  5344c2ae-131b-4260-a5e2-c1ac642c59a1        f   \n",
       "4161        4161  22633e6e-0c8c-460d-8a6d-23ea300ca4b6        t   \n",
       "4892        4892  ba6d4f13-8ef2-462c-906e-1c54ab892c68        t   \n",
       "7756        7756  0de88230-d7fb-4ca2-b230-38a828f14fdf        t   \n",
       "8092        8092  9a5bc656-86c7-47d8-9058-d0db5cc5cb40        t   \n",
       "7187        7187  46fcfce6-e78c-4861-80f5-e9c620b8e7ee        f   \n",
       "4103        4103  026a57fc-716a-4cfb-8af6-75dbfbf3871a        t   \n",
       "92            92  9be95d01-35c8-4702-86eb-54ca340c2e2a        t   \n",
       "3994        3994  7a3e823e-e45e-4c76-ad3e-99217d642b26        f   \n",
       "\n",
       "                             datetime  duration  network  \\\n",
       "8793 2016-01-20 16:53:22.950673+00:00      2323      NaN   \n",
       "5992 2016-01-14 17:28:47.920411+00:00       846      NaN   \n",
       "4161 2016-01-11 17:56:34.088754+00:00      1450      NaN   \n",
       "4892 2016-01-13 12:40:53.309122+00:00      2016      NaN   \n",
       "7756 2016-01-21 16:00:21.324126+00:00      1926      NaN   \n",
       "8092 2016-01-22 11:07:50.490049+00:00       859      NaN   \n",
       "7187 2016-01-18 11:45:39.353432+00:00        99      NaN   \n",
       "4103 2016-01-11 02:02:43.525643+00:00       612      NaN   \n",
       "92   2016-01-01 20:53:03.609418+00:00       449      NaN   \n",
       "3994 2016-01-10 10:53:34.530195+00:00      1955      NaN   \n",
       "\n",
       "                                msisdn                msisdn_counterpart  \\\n",
       "8793  010848f9298ef06a00a980a17ceef816  dfb98388863e5638d6b6e96dc790a7de   \n",
       "5992  010848f9298ef06a00a980a17ceef816  30ed08ba3ab18c21ef2a9ce8444bdc4e   \n",
       "4161  010848f9298ef06a00a980a17ceef816  ca97bd4addf4a1924542517004a71db5   \n",
       "4892  010848f9298ef06a00a980a17ceef816  30ed08ba3ab18c21ef2a9ce8444bdc4e   \n",
       "7756  010848f9298ef06a00a980a17ceef816  ca97bd4addf4a1924542517004a71db5   \n",
       "8092  010848f9298ef06a00a980a17ceef816  30ed08ba3ab18c21ef2a9ce8444bdc4e   \n",
       "7187  010848f9298ef06a00a980a17ceef816  6f5c3d6136d38f439b59a9eb83241e41   \n",
       "4103  010848f9298ef06a00a980a17ceef816  30ed08ba3ab18c21ef2a9ce8444bdc4e   \n",
       "92    010848f9298ef06a00a980a17ceef816  30ed08ba3ab18c21ef2a9ce8444bdc4e   \n",
       "3994  010848f9298ef06a00a980a17ceef816  fb3b762f53bfcc32dcd3f4139e301786   \n",
       "\n",
       "                           location_id                              imsi  \\\n",
       "8793  470ed0c2dcceb4e6843f94549bcac0c8  bf9e80bd64cb0920e3931bbe2e1191af   \n",
       "5992  470ed0c2dcceb4e6843f94549bcac0c8  bf9e80bd64cb0920e3931bbe2e1191af   \n",
       "4161  470ed0c2dcceb4e6843f94549bcac0c8  bf9e80bd64cb0920e3931bbe2e1191af   \n",
       "4892  470ed0c2dcceb4e6843f94549bcac0c8  bf9e80bd64cb0920e3931bbe2e1191af   \n",
       "7756  470ed0c2dcceb4e6843f94549bcac0c8  bf9e80bd64cb0920e3931bbe2e1191af   \n",
       "8092  470ed0c2dcceb4e6843f94549bcac0c8  bf9e80bd64cb0920e3931bbe2e1191af   \n",
       "7187  470ed0c2dcceb4e6843f94549bcac0c8  bf9e80bd64cb0920e3931bbe2e1191af   \n",
       "4103  470ed0c2dcceb4e6843f94549bcac0c8  bf9e80bd64cb0920e3931bbe2e1191af   \n",
       "92    470ed0c2dcceb4e6843f94549bcac0c8  bf9e80bd64cb0920e3931bbe2e1191af   \n",
       "3994  470ed0c2dcceb4e6843f94549bcac0c8  bf9e80bd64cb0920e3931bbe2e1191af   \n",
       "\n",
       "                                  imei  tac  operator_code  country_code  \\\n",
       "8793  0d115aac2704d529142d2b386d97a4b6    2            NaN           NaN   \n",
       "5992  0d115aac2704d529142d2b386d97a4b6    2            NaN           NaN   \n",
       "4161  0d115aac2704d529142d2b386d97a4b6    2            NaN           NaN   \n",
       "4892  0d115aac2704d529142d2b386d97a4b6    2            NaN           NaN   \n",
       "7756  0d115aac2704d529142d2b386d97a4b6    2            NaN           NaN   \n",
       "8092  0d115aac2704d529142d2b386d97a4b6    2            NaN           NaN   \n",
       "7187  0d115aac2704d529142d2b386d97a4b6    2            NaN           NaN   \n",
       "4103  0d115aac2704d529142d2b386d97a4b6    2            NaN           NaN   \n",
       "92    0d115aac2704d529142d2b386d97a4b6    2            NaN           NaN   \n",
       "3994  0d115aac2704d529142d2b386d97a4b6    2            NaN           NaN   \n",
       "\n",
       "      call_date  \n",
       "8793 2016-01-20  \n",
       "5992 2016-01-14  \n",
       "4161 2016-01-11  \n",
       "4892 2016-01-13  \n",
       "7756 2016-01-21  \n",
       "8092 2016-01-22  \n",
       "7187 2016-01-18  \n",
       "4103 2016-01-11  \n",
       "92   2016-01-01  \n",
       "3994 2016-01-10  "
      ]
     },
     "metadata": {},
     "output_type": "display_data"
    },
    {
     "name": "stdout",
     "output_type": "stream",
     "text": [
      "<class 'pandas.core.frame.DataFrame'>\n",
      "RangeIndex: 12400 entries, 0 to 12399\n",
      "Data columns (total 15 columns):\n",
      " #   Column              Non-Null Count  Dtype              \n",
      "---  ------              --------------  -----              \n",
      " 0   Unnamed: 0          12400 non-null  int64              \n",
      " 1   id                  12400 non-null  object             \n",
      " 2   outgoing            12400 non-null  object             \n",
      " 3   datetime            12400 non-null  datetime64[ns, UTC]\n",
      " 4   duration            12400 non-null  int64              \n",
      " 5   network             0 non-null      float64            \n",
      " 6   msisdn              12400 non-null  object             \n",
      " 7   msisdn_counterpart  12400 non-null  object             \n",
      " 8   location_id         12400 non-null  object             \n",
      " 9   imsi                12400 non-null  object             \n",
      " 10  imei                12400 non-null  object             \n",
      " 11  tac                 12400 non-null  int64              \n",
      " 12  operator_code       0 non-null      float64            \n",
      " 13  country_code        0 non-null      float64            \n",
      " 14  call_date           12400 non-null  datetime64[ns]     \n",
      "dtypes: datetime64[ns, UTC](1), datetime64[ns](1), float64(3), int64(3), object(7)\n",
      "memory usage: 1.4+ MB\n"
     ]
    }
   ],
   "source": [
    "display(cdr.sort_values(by=\"msisdn\").head(10))\n",
    "cdr.info()"
   ]
  },
  {
   "cell_type": "code",
   "execution_count": 9,
   "id": "d9ea8ed7-2b81-4e03-bcfc-de413e8a687d",
   "metadata": {},
   "outputs": [
    {
     "data": {
      "text/html": [
       "<div>\n",
       "<style scoped>\n",
       "    .dataframe tbody tr th:only-of-type {\n",
       "        vertical-align: middle;\n",
       "    }\n",
       "\n",
       "    .dataframe tbody tr th {\n",
       "        vertical-align: top;\n",
       "    }\n",
       "\n",
       "    .dataframe thead th {\n",
       "        text-align: right;\n",
       "    }\n",
       "</style>\n",
       "<table border=\"1\" class=\"dataframe\">\n",
       "  <thead>\n",
       "    <tr style=\"text-align: right;\">\n",
       "      <th></th>\n",
       "      <th>cell_id</th>\n",
       "      <th>id</th>\n",
       "      <th>version</th>\n",
       "      <th>site_id</th>\n",
       "      <th>name</th>\n",
       "      <th>type</th>\n",
       "      <th>msc</th>\n",
       "      <th>bsc_rnc</th>\n",
       "      <th>antenna_type</th>\n",
       "      <th>status</th>\n",
       "      <th>...</th>\n",
       "      <th>azimuth</th>\n",
       "      <th>transmitter</th>\n",
       "      <th>max_range</th>\n",
       "      <th>min_range</th>\n",
       "      <th>electrical_tilt</th>\n",
       "      <th>mechanical_downtilt</th>\n",
       "      <th>date_of_first_service</th>\n",
       "      <th>date_of_last_service</th>\n",
       "      <th>geom_polygon</th>\n",
       "      <th>geometry</th>\n",
       "    </tr>\n",
       "  </thead>\n",
       "  <tbody>\n",
       "    <tr>\n",
       "      <th>0</th>\n",
       "      <td>1</td>\n",
       "      <td>9cfd70df4cd3da2d480b9f00bed208f6</td>\n",
       "      <td>0</td>\n",
       "      <td>2f2d0c39d9e62ef05091e46c21eb31ea</td>\n",
       "      <td>None</td>\n",
       "      <td>None</td>\n",
       "      <td>None</td>\n",
       "      <td>None</td>\n",
       "      <td>None</td>\n",
       "      <td>None</td>\n",
       "      <td>...</td>\n",
       "      <td>None</td>\n",
       "      <td>None</td>\n",
       "      <td>None</td>\n",
       "      <td>None</td>\n",
       "      <td>None</td>\n",
       "      <td>None</td>\n",
       "      <td>2015-06-05</td>\n",
       "      <td>None</td>\n",
       "      <td>None</td>\n",
       "      <td>POINT (85.48658 27.65796)</td>\n",
       "    </tr>\n",
       "    <tr>\n",
       "      <th>1</th>\n",
       "      <td>2</td>\n",
       "      <td>a840dbe701f5eb74547551d1d642677e</td>\n",
       "      <td>0</td>\n",
       "      <td>7fe015df18e35c4f41165e3424165431</td>\n",
       "      <td>None</td>\n",
       "      <td>None</td>\n",
       "      <td>None</td>\n",
       "      <td>None</td>\n",
       "      <td>None</td>\n",
       "      <td>None</td>\n",
       "      <td>...</td>\n",
       "      <td>None</td>\n",
       "      <td>None</td>\n",
       "      <td>None</td>\n",
       "      <td>None</td>\n",
       "      <td>None</td>\n",
       "      <td>None</td>\n",
       "      <td>2015-04-09</td>\n",
       "      <td>None</td>\n",
       "      <td>None</td>\n",
       "      <td>POINT (85.40793 27.69940)</td>\n",
       "    </tr>\n",
       "  </tbody>\n",
       "</table>\n",
       "<p>2 rows × 22 columns</p>\n",
       "</div>"
      ],
      "text/plain": [
       "   cell_id                                id  version  \\\n",
       "0        1  9cfd70df4cd3da2d480b9f00bed208f6        0   \n",
       "1        2  a840dbe701f5eb74547551d1d642677e        0   \n",
       "\n",
       "                            site_id  name  type   msc bsc_rnc antenna_type  \\\n",
       "0  2f2d0c39d9e62ef05091e46c21eb31ea  None  None  None    None         None   \n",
       "1  7fe015df18e35c4f41165e3424165431  None  None  None    None         None   \n",
       "\n",
       "  status  ... azimuth transmitter max_range min_range electrical_tilt  \\\n",
       "0   None  ...    None        None      None      None            None   \n",
       "1   None  ...    None        None      None      None            None   \n",
       "\n",
       "  mechanical_downtilt date_of_first_service date_of_last_service geom_polygon  \\\n",
       "0                None            2015-06-05                 None         None   \n",
       "1                None            2015-04-09                 None         None   \n",
       "\n",
       "                    geometry  \n",
       "0  POINT (85.48658 27.65796)  \n",
       "1  POINT (85.40793 27.69940)  \n",
       "\n",
       "[2 rows x 22 columns]"
      ]
     },
     "metadata": {},
     "output_type": "display_data"
    },
    {
     "name": "stdout",
     "output_type": "stream",
     "text": [
      "<class 'geopandas.geodataframe.GeoDataFrame'>\n",
      "RangeIndex: 200 entries, 0 to 199\n",
      "Data columns (total 22 columns):\n",
      " #   Column                 Non-Null Count  Dtype   \n",
      "---  ------                 --------------  -----   \n",
      " 0   cell_id                200 non-null    int64   \n",
      " 1   id                     200 non-null    object  \n",
      " 2   version                200 non-null    int64   \n",
      " 3   site_id                200 non-null    object  \n",
      " 4   name                   0 non-null      object  \n",
      " 5   type                   0 non-null      object  \n",
      " 6   msc                    0 non-null      object  \n",
      " 7   bsc_rnc                0 non-null      object  \n",
      " 8   antenna_type           0 non-null      object  \n",
      " 9   status                 0 non-null      object  \n",
      " 10  lac                    0 non-null      object  \n",
      " 11  height                 0 non-null      object  \n",
      " 12  azimuth                0 non-null      object  \n",
      " 13  transmitter            0 non-null      object  \n",
      " 14  max_range              0 non-null      object  \n",
      " 15  min_range              0 non-null      object  \n",
      " 16  electrical_tilt        0 non-null      object  \n",
      " 17  mechanical_downtilt    0 non-null      object  \n",
      " 18  date_of_first_service  200 non-null    object  \n",
      " 19  date_of_last_service   0 non-null      object  \n",
      " 20  geom_polygon           0 non-null      object  \n",
      " 21  geometry               200 non-null    geometry\n",
      "dtypes: geometry(1), int64(2), object(19)\n",
      "memory usage: 34.5+ KB\n"
     ]
    }
   ],
   "source": [
    "display(cell_towers.head(2))\n",
    "cell_towers.info()"
   ]
  },
  {
   "cell_type": "markdown",
   "id": "4b6610cb-8d3d-4763-b2ec-ae316aac4db1",
   "metadata": {},
   "source": [
    "### 2. From the cell_towers dataset, what is the number of (unique) cell towers?"
   ]
  },
  {
   "cell_type": "code",
   "execution_count": 10,
   "id": "83dbd4d9-76f9-49c0-a2e7-3448ad9bfee5",
   "metadata": {},
   "outputs": [
    {
     "data": {
      "text/plain": [
       "200"
      ]
     },
     "execution_count": 10,
     "metadata": {},
     "output_type": "execute_result"
    }
   ],
   "source": [
    "cell_towers.cell_id.nunique()"
   ]
  },
  {
   "cell_type": "markdown",
   "id": "d7a44e06-a074-424a-a885-f6ff20487fbb",
   "metadata": {},
   "source": [
    "### 3.a. From the cdr dataset, what is the number of recorded events?"
   ]
  },
  {
   "cell_type": "code",
   "execution_count": 11,
   "id": "09fde994-e17f-4ca4-90c3-b07b3eaff994",
   "metadata": {
    "tags": []
   },
   "outputs": [
    {
     "data": {
      "text/plain": [
       "12400"
      ]
     },
     "execution_count": 11,
     "metadata": {},
     "output_type": "execute_result"
    }
   ],
   "source": [
    "cdr.id.count()"
   ]
  },
  {
   "cell_type": "code",
   "execution_count": 12,
   "id": "d6832976-f4d0-4bc8-a01a-109073b46ff4",
   "metadata": {},
   "outputs": [
    {
     "data": {
      "text/plain": [
       "6200"
      ]
     },
     "execution_count": 12,
     "metadata": {},
     "output_type": "execute_result"
    }
   ],
   "source": [
    "event_count = cdr.id.nunique()\n",
    "event_count"
   ]
  },
  {
   "cell_type": "markdown",
   "id": "2f8eb528-682f-42e2-a53c-0455636651d7",
   "metadata": {},
   "source": [
    "Both sides of an event (sender and receiver) are recorded in the dataset, meaning that each same event is recorded twice in the dataset, from the receiver side and from the sender side (in other words, each unique call id exists twice in the dataset: once for the receiver, and once for the sender).\n",
    "The reason why we have access to this information on both sides, and for each event, is that each subscriber (sender or receiver) in the dataset is a subscriber of the MNO from which we got the data (assuming we only received data from a unique MNO)."
   ]
  },
  {
   "cell_type": "markdown",
   "id": "f20c6f68-452c-48d8-b863-763e0a9e7576",
   "metadata": {},
   "source": [
    "### 3.b. From the cdr dataset, what time period does the dataset cover (i.e. start date and end date)?"
   ]
  },
  {
   "cell_type": "code",
   "execution_count": 13,
   "id": "4cb31773-ed0d-4049-bd9e-c665ebfa5f68",
   "metadata": {
    "tags": []
   },
   "outputs": [],
   "source": [
    "min_d = cdr.datetime.dt.date.astype(\"datetime64\").min()"
   ]
  },
  {
   "cell_type": "code",
   "execution_count": 14,
   "id": "db12aed2-5107-48e0-8ec5-1c9d0da48833",
   "metadata": {},
   "outputs": [],
   "source": [
    "max_d = cdr.datetime.dt.date.astype(\"datetime64\").max()"
   ]
  },
  {
   "cell_type": "code",
   "execution_count": 15,
   "id": "4a8dbd88-37e2-44e7-92b5-c3db9228287d",
   "metadata": {},
   "outputs": [],
   "source": [
    "days_count = abs((max_d - min_d).days + 1)"
   ]
  },
  {
   "cell_type": "code",
   "execution_count": 16,
   "id": "63ab7409-3df4-42e3-a692-73387fc1fcc9",
   "metadata": {},
   "outputs": [
    {
     "name": "stdout",
     "output_type": "stream",
     "text": [
      "From 2016-01-01 to 2016-01-31, 31 days.\n"
     ]
    }
   ],
   "source": [
    "print(\n",
    "    f'From {min_d.strftime(\"%Y-%m-%d\")} to {max_d.strftime(\"%Y-%m-%d\")}, {days_count} days.'\n",
    ")"
   ]
  },
  {
   "cell_type": "code",
   "execution_count": null,
   "id": "14f0dc1c-64d6-48f1-818d-3de68bf75235",
   "metadata": {},
   "outputs": [],
   "source": []
  },
  {
   "cell_type": "markdown",
   "id": "a4be1d69-24d6-4c56-9017-309678778a8e",
   "metadata": {},
   "source": [
    "### 3.c. From the cdr dataset, how many (unique) subscribers are in this dataset? Given this, you can estimate the average number of events per subscribers, per day."
   ]
  },
  {
   "cell_type": "code",
   "execution_count": 17,
   "id": "3bb8910a-5473-4363-8380-e25a4567b92b",
   "metadata": {},
   "outputs": [
    {
     "data": {
      "text/plain": [
       "499"
      ]
     },
     "execution_count": 17,
     "metadata": {},
     "output_type": "execute_result"
    }
   ],
   "source": [
    "subscriber_count = cdr.msisdn.nunique()\n",
    "subscriber_count"
   ]
  },
  {
   "cell_type": "code",
   "execution_count": 18,
   "id": "a6f31364-1587-4275-ac30-dac0cce95b02",
   "metadata": {},
   "outputs": [
    {
     "name": "stdout",
     "output_type": "stream",
     "text": [
      "Approximately 0.4 events, per subscriber per day.\n"
     ]
    }
   ],
   "source": [
    "avg = event_count / (subscriber_count * days_count)\n",
    "print(f\"Approximately {round(avg,2)} events, per subscriber per day.\")"
   ]
  },
  {
   "cell_type": "markdown",
   "id": "c0967931-41f8-4210-81de-ee4b02b440c2",
   "metadata": {
    "tags": []
   },
   "source": [
    "### 4. From the cdr dataset, calculate the count of (unique) events, for each subscriber. You can plot an histogram of the resulting data to see its distribution."
   ]
  },
  {
   "cell_type": "code",
   "execution_count": 19,
   "id": "7ac2f065-b4d0-4c31-8dcb-5d9fda8a6330",
   "metadata": {},
   "outputs": [
    {
     "data": {
      "text/plain": [
       "msisdn\n",
       "010848f9298ef06a00a980a17ceef816    28\n",
       "01496ab1eac1489401b73899113c2b64    54\n",
       "02118dabd3f9441498cd1ea5999058b7    12\n",
       "036a72bf954f29dd6cb17928c516a768    14\n",
       "04882d691722a571fb0c77786534a751    15\n",
       "                                    ..\n",
       "fc7a7ccf70960b11ba58e073c5775769    25\n",
       "fcebfc2c98a1ddef78877e665ea53fd2    20\n",
       "fd7d9e7d4aaeb684b510e4a51832c879    35\n",
       "fe15bd1b293f071cc8f5b4d0111aa998    22\n",
       "feb6b224111b6ddda006aeef8610810a    24\n",
       "Name: id, Length: 499, dtype: int64"
      ]
     },
     "execution_count": 19,
     "metadata": {},
     "output_type": "execute_result"
    }
   ],
   "source": [
    "dist = cdr.groupby([\"msisdn\"])[\"id\"].nunique()\n",
    "dist"
   ]
  },
  {
   "cell_type": "code",
   "execution_count": 20,
   "id": "d3e46199-0a93-4f4d-87cf-f05f8a84a4a2",
   "metadata": {},
   "outputs": [
    {
     "data": {
      "text/plain": [
       "<Axes: >"
      ]
     },
     "execution_count": 20,
     "metadata": {},
     "output_type": "execute_result"
    },
    {
     "data": {
      "image/png": "[encoded data removed]",
      "text/plain": [
       "<Figure size 640x480 with 1 Axes>"
      ]
     },
     "metadata": {},
     "output_type": "display_data"
    }
   ],
   "source": [
    "dist.hist(bins=10, density=True)"
   ]
  },
  {
   "cell_type": "markdown",
   "id": "8127d3db-14af-479e-9152-3ed37468f915",
   "metadata": {
    "tags": []
   },
   "source": [
    "### 5. From the cdr dataset, calculate the count of days with events (in other word, each day with at least one event), for each subscriber. You can plot an histogram of the resulting data to see its distribution."
   ]
  },
  {
   "cell_type": "code",
   "execution_count": 21,
   "id": "57ba58b8-14b4-475a-a29f-83fb22997f1b",
   "metadata": {},
   "outputs": [
    {
     "data": {
      "text/plain": [
       "msisdn\n",
       "010848f9298ef06a00a980a17ceef816    20\n",
       "01496ab1eac1489401b73899113c2b64    27\n",
       "02118dabd3f9441498cd1ea5999058b7    10\n",
       "036a72bf954f29dd6cb17928c516a768    12\n",
       "04882d691722a571fb0c77786534a751    12\n",
       "                                    ..\n",
       "fc7a7ccf70960b11ba58e073c5775769    19\n",
       "fcebfc2c98a1ddef78877e665ea53fd2    13\n",
       "fd7d9e7d4aaeb684b510e4a51832c879    25\n",
       "fe15bd1b293f071cc8f5b4d0111aa998    17\n",
       "feb6b224111b6ddda006aeef8610810a    14\n",
       "Name: call_date, Length: 499, dtype: int64"
      ]
     },
     "execution_count": 21,
     "metadata": {},
     "output_type": "execute_result"
    }
   ],
   "source": [
    "dist = cdr.groupby([\"msisdn\"])[\"call_date\"].nunique()\n",
    "dist"
   ]
  },
  {
   "cell_type": "code",
   "execution_count": 22,
   "id": "c9c4bcd5-4311-4891-8203-9ff60ceda2b7",
   "metadata": {},
   "outputs": [
    {
     "data": {
      "text/plain": [
       "<Axes: >"
      ]
     },
     "execution_count": 22,
     "metadata": {},
     "output_type": "execute_result"
    },
    {
     "data": {
      "image/png": "[encoded data removed]",
      "text/plain": [
       "<Figure size 640x480 with 1 Axes>"
      ]
     },
     "metadata": {},
     "output_type": "display_data"
    }
   ],
   "source": [
    "dist.hist(bins=10, density=True)"
   ]
  },
  {
   "cell_type": "markdown",
   "id": "4c3a8153-114c-4366-a92a-96f4a194fac7",
   "metadata": {},
   "source": [
    "### 6. Shifting focus to the data from the “active subscribers”"
   ]
  },
  {
   "cell_type": "code",
   "execution_count": 23,
   "id": "1fa2fdc4-81ae-44a2-bf94-8aaae3c3fd16",
   "metadata": {
    "tags": []
   },
   "outputs": [],
   "source": [
    "new_cdr = cdr.groupby(\"msisdn\").filter(lambda r: r.call_date.nunique() >= 14)"
   ]
  },
  {
   "cell_type": "code",
   "execution_count": 24,
   "id": "27b7ff8d-8145-4727-a9b7-1bad97c2a620",
   "metadata": {},
   "outputs": [
    {
     "data": {
      "text/html": [
       "<div>\n",
       "<style scoped>\n",
       "    .dataframe tbody tr th:only-of-type {\n",
       "        vertical-align: middle;\n",
       "    }\n",
       "\n",
       "    .dataframe tbody tr th {\n",
       "        vertical-align: top;\n",
       "    }\n",
       "\n",
       "    .dataframe thead th {\n",
       "        text-align: right;\n",
       "    }\n",
       "</style>\n",
       "<table border=\"1\" class=\"dataframe\">\n",
       "  <thead>\n",
       "    <tr style=\"text-align: right;\">\n",
       "      <th></th>\n",
       "      <th>Unnamed: 0</th>\n",
       "      <th>id</th>\n",
       "      <th>outgoing</th>\n",
       "      <th>datetime</th>\n",
       "      <th>duration</th>\n",
       "      <th>network</th>\n",
       "      <th>msisdn</th>\n",
       "      <th>msisdn_counterpart</th>\n",
       "      <th>location_id</th>\n",
       "      <th>imsi</th>\n",
       "      <th>imei</th>\n",
       "      <th>tac</th>\n",
       "      <th>operator_code</th>\n",
       "      <th>country_code</th>\n",
       "      <th>call_date</th>\n",
       "    </tr>\n",
       "  </thead>\n",
       "  <tbody>\n",
       "    <tr>\n",
       "      <th>0</th>\n",
       "      <td>0</td>\n",
       "      <td>b8963c37-1699-4ee0-8d80-17e79ac4249c</td>\n",
       "      <td>t</td>\n",
       "      <td>2016-01-01 10:45:24.158813+00:00</td>\n",
       "      <td>1646</td>\n",
       "      <td>NaN</td>\n",
       "      <td>6599b02ffe5164b3f0bc63808b63414a</td>\n",
       "      <td>56622a73e1f5317cbcac7b773e053b95</td>\n",
       "      <td>95cc6baf49adb6bfe8541827b52f4606</td>\n",
       "      <td>255f33890339291baae8ae4d252da76d</td>\n",
       "      <td>ab2eb3bd2db3106312819a89eb9e5dec</td>\n",
       "      <td>17</td>\n",
       "      <td>NaN</td>\n",
       "      <td>NaN</td>\n",
       "      <td>2016-01-01</td>\n",
       "    </tr>\n",
       "    <tr>\n",
       "      <th>1</th>\n",
       "      <td>1</td>\n",
       "      <td>28934c1f-825a-4120-8885-818c6bb6b5a7</td>\n",
       "      <td>t</td>\n",
       "      <td>2016-01-01 04:20:50.782825+00:00</td>\n",
       "      <td>872</td>\n",
       "      <td>NaN</td>\n",
       "      <td>271d0ff97f5db99055a51271ea2da91c</td>\n",
       "      <td>1499602a771e74f7ba13eccdb7ab414e</td>\n",
       "      <td>1a09a6aff726f26f92bc8cd18c02dcef</td>\n",
       "      <td>458e7ffc512917dfc631b8d0d6fdad03</td>\n",
       "      <td>4366c901ca19cef095dc8a0773216c09</td>\n",
       "      <td>9</td>\n",
       "      <td>NaN</td>\n",
       "      <td>NaN</td>\n",
       "      <td>2016-01-01</td>\n",
       "    </tr>\n",
       "    <tr>\n",
       "      <th>2</th>\n",
       "      <td>2</td>\n",
       "      <td>02160a87-ad5f-4f69-b2d2-6593b1f8e50f</td>\n",
       "      <td>t</td>\n",
       "      <td>2016-01-01 05:28:17.746989+00:00</td>\n",
       "      <td>1486</td>\n",
       "      <td>NaN</td>\n",
       "      <td>9b636b3b9f0d4e8c88c195eaadb9e05e</td>\n",
       "      <td>db9813840ff3f21486e36acb4cea6814</td>\n",
       "      <td>f09543b192e77c6b293910fa58f63e9d</td>\n",
       "      <td>ccb870900822acc2f9d09b14cd460cf7</td>\n",
       "      <td>19d9c2f4744b7e91746e4e758f14f24f</td>\n",
       "      <td>13</td>\n",
       "      <td>NaN</td>\n",
       "      <td>NaN</td>\n",
       "      <td>2016-01-01</td>\n",
       "    </tr>\n",
       "    <tr>\n",
       "      <th>3</th>\n",
       "      <td>3</td>\n",
       "      <td>93e9ef42-adad-49e5-a83a-c4d907c1849c</td>\n",
       "      <td>t</td>\n",
       "      <td>2016-01-01 02:17:37.721142+00:00</td>\n",
       "      <td>1554</td>\n",
       "      <td>NaN</td>\n",
       "      <td>9c5c42f2685e73a0418017145b5c9937</td>\n",
       "      <td>ecf35b0006aff9707ce64480010a0954</td>\n",
       "      <td>d690bc731cb836090488894e497aecd9</td>\n",
       "      <td>d7ec6e06d5d41589d520ee4c09837c82</td>\n",
       "      <td>14edb480a90e91b9dd2c05c419c0d2be</td>\n",
       "      <td>10</td>\n",
       "      <td>NaN</td>\n",
       "      <td>NaN</td>\n",
       "      <td>2016-01-01</td>\n",
       "    </tr>\n",
       "    <tr>\n",
       "      <th>4</th>\n",
       "      <td>4</td>\n",
       "      <td>aea156be-61b9-4035-b0ac-a2e75fd9a601</td>\n",
       "      <td>t</td>\n",
       "      <td>2016-01-01 23:05:04.097218+00:00</td>\n",
       "      <td>2281</td>\n",
       "      <td>NaN</td>\n",
       "      <td>fabc01ef9b0a3107c1073b8b1c96aed4</td>\n",
       "      <td>ecf35b0006aff9707ce64480010a0954</td>\n",
       "      <td>2f178be611764586663f77e9eed75cea</td>\n",
       "      <td>24e3ca50ca26aaea99b88bc7d6039cf3</td>\n",
       "      <td>3b7c61584ebf3ca5cf46794be0d609db</td>\n",
       "      <td>12</td>\n",
       "      <td>NaN</td>\n",
       "      <td>NaN</td>\n",
       "      <td>2016-01-01</td>\n",
       "    </tr>\n",
       "    <tr>\n",
       "      <th>...</th>\n",
       "      <td>...</td>\n",
       "      <td>...</td>\n",
       "      <td>...</td>\n",
       "      <td>...</td>\n",
       "      <td>...</td>\n",
       "      <td>...</td>\n",
       "      <td>...</td>\n",
       "      <td>...</td>\n",
       "      <td>...</td>\n",
       "      <td>...</td>\n",
       "      <td>...</td>\n",
       "      <td>...</td>\n",
       "      <td>...</td>\n",
       "      <td>...</td>\n",
       "      <td>...</td>\n",
       "    </tr>\n",
       "    <tr>\n",
       "      <th>12395</th>\n",
       "      <td>12395</td>\n",
       "      <td>cd62485d-8c3f-423d-98f9-3ef7d634057f</td>\n",
       "      <td>f</td>\n",
       "      <td>2016-01-31 15:26:06.004810+00:00</td>\n",
       "      <td>1271</td>\n",
       "      <td>NaN</td>\n",
       "      <td>f85d6a426b1fcf2a39fd431169316b95</td>\n",
       "      <td>2ca4acaefffc1e5ccb5c6ce484f2ab40</td>\n",
       "      <td>fcd019e3bfcc7ba320573ea474e04cfd</td>\n",
       "      <td>02d01ce8bd8a166449701acf057127e8</td>\n",
       "      <td>8b45cd285ae50f9b64674d9175166ddb</td>\n",
       "      <td>13</td>\n",
       "      <td>NaN</td>\n",
       "      <td>NaN</td>\n",
       "      <td>2016-01-31</td>\n",
       "    </tr>\n",
       "    <tr>\n",
       "      <th>12396</th>\n",
       "      <td>12396</td>\n",
       "      <td>24ca7b51-bf11-4f35-a48d-87adb711a3e9</td>\n",
       "      <td>f</td>\n",
       "      <td>2016-01-31 22:41:47.660232+00:00</td>\n",
       "      <td>2038</td>\n",
       "      <td>NaN</td>\n",
       "      <td>4ef8709f3c0f043815a7ad1b9f46984c</td>\n",
       "      <td>60dc3bd5870b1c231929a3d9272550d7</td>\n",
       "      <td>5304941baf455d6b545db3815ef604dc</td>\n",
       "      <td>c06391cb02b3fd66ae69c282269bb5d2</td>\n",
       "      <td>8f65a2828a6bf414e5c6e150101fe0f5</td>\n",
       "      <td>19</td>\n",
       "      <td>NaN</td>\n",
       "      <td>NaN</td>\n",
       "      <td>2016-01-31</td>\n",
       "    </tr>\n",
       "    <tr>\n",
       "      <th>12397</th>\n",
       "      <td>12397</td>\n",
       "      <td>b1dcaea5-6ca5-4cc2-8792-aaf1da4a4c56</td>\n",
       "      <td>f</td>\n",
       "      <td>2016-01-31 10:36:28.693385+00:00</td>\n",
       "      <td>2582</td>\n",
       "      <td>NaN</td>\n",
       "      <td>83a89ab577145247dba4cc15291deb34</td>\n",
       "      <td>8cc5dcae76bc7e836aceeb7fa081eb7d</td>\n",
       "      <td>a4a46fd1d2d518b890211d6fb00aca93</td>\n",
       "      <td>27d07ea9164eaf6bbeb62df516f65227</td>\n",
       "      <td>a762d8c56c6dfd54a36b064eadc71d70</td>\n",
       "      <td>12</td>\n",
       "      <td>NaN</td>\n",
       "      <td>NaN</td>\n",
       "      <td>2016-01-31</td>\n",
       "    </tr>\n",
       "    <tr>\n",
       "      <th>12398</th>\n",
       "      <td>12398</td>\n",
       "      <td>3ac329f2-6074-4f0a-87dd-0c25caba2fd1</td>\n",
       "      <td>f</td>\n",
       "      <td>2016-01-31 05:47:31.854992+00:00</td>\n",
       "      <td>748</td>\n",
       "      <td>NaN</td>\n",
       "      <td>db15b008d5651f9b1deb5cc3aa3956be</td>\n",
       "      <td>67c8924931b4a84515bca92536a59f2c</td>\n",
       "      <td>05dea0f19026158ac28267bcbb6a806d</td>\n",
       "      <td>536e578341f8ce2857f3bc5c3acda7d6</td>\n",
       "      <td>b2fa9765c3b1ac38b29a5b8619fc5ff6</td>\n",
       "      <td>2</td>\n",
       "      <td>NaN</td>\n",
       "      <td>NaN</td>\n",
       "      <td>2016-01-31</td>\n",
       "    </tr>\n",
       "    <tr>\n",
       "      <th>12399</th>\n",
       "      <td>12399</td>\n",
       "      <td>d51d1b26-bc74-4b65-b64f-38bd1e1fefe1</td>\n",
       "      <td>f</td>\n",
       "      <td>2016-01-31 08:27:02.067242+00:00</td>\n",
       "      <td>2495</td>\n",
       "      <td>NaN</td>\n",
       "      <td>db15b008d5651f9b1deb5cc3aa3956be</td>\n",
       "      <td>67c8924931b4a84515bca92536a59f2c</td>\n",
       "      <td>05dea0f19026158ac28267bcbb6a806d</td>\n",
       "      <td>536e578341f8ce2857f3bc5c3acda7d6</td>\n",
       "      <td>b2fa9765c3b1ac38b29a5b8619fc5ff6</td>\n",
       "      <td>2</td>\n",
       "      <td>NaN</td>\n",
       "      <td>NaN</td>\n",
       "      <td>2016-01-31</td>\n",
       "    </tr>\n",
       "  </tbody>\n",
       "</table>\n",
       "<p>10683 rows × 15 columns</p>\n",
       "</div>"
      ],
      "text/plain": [
       "       Unnamed: 0                                    id outgoing  \\\n",
       "0               0  b8963c37-1699-4ee0-8d80-17e79ac4249c        t   \n",
       "1               1  28934c1f-825a-4120-8885-818c6bb6b5a7        t   \n",
       "2               2  02160a87-ad5f-4f69-b2d2-6593b1f8e50f        t   \n",
       "3               3  93e9ef42-adad-49e5-a83a-c4d907c1849c        t   \n",
       "4               4  aea156be-61b9-4035-b0ac-a2e75fd9a601        t   \n",
       "...           ...                                   ...      ...   \n",
       "12395       12395  cd62485d-8c3f-423d-98f9-3ef7d634057f        f   \n",
       "12396       12396  24ca7b51-bf11-4f35-a48d-87adb711a3e9        f   \n",
       "12397       12397  b1dcaea5-6ca5-4cc2-8792-aaf1da4a4c56        f   \n",
       "12398       12398  3ac329f2-6074-4f0a-87dd-0c25caba2fd1        f   \n",
       "12399       12399  d51d1b26-bc74-4b65-b64f-38bd1e1fefe1        f   \n",
       "\n",
       "                              datetime  duration  network  \\\n",
       "0     2016-01-01 10:45:24.158813+00:00      1646      NaN   \n",
       "1     2016-01-01 04:20:50.782825+00:00       872      NaN   \n",
       "2     2016-01-01 05:28:17.746989+00:00      1486      NaN   \n",
       "3     2016-01-01 02:17:37.721142+00:00      1554      NaN   \n",
       "4     2016-01-01 23:05:04.097218+00:00      2281      NaN   \n",
       "...                                ...       ...      ...   \n",
       "12395 2016-01-31 15:26:06.004810+00:00      1271      NaN   \n",
       "12396 2016-01-31 22:41:47.660232+00:00      2038      NaN   \n",
       "12397 2016-01-31 10:36:28.693385+00:00      2582      NaN   \n",
       "12398 2016-01-31 05:47:31.854992+00:00       748      NaN   \n",
       "12399 2016-01-31 08:27:02.067242+00:00      2495      NaN   \n",
       "\n",
       "                                 msisdn                msisdn_counterpart  \\\n",
       "0      6599b02ffe5164b3f0bc63808b63414a  56622a73e1f5317cbcac7b773e053b95   \n",
       "1      271d0ff97f5db99055a51271ea2da91c  1499602a771e74f7ba13eccdb7ab414e   \n",
       "2      9b636b3b9f0d4e8c88c195eaadb9e05e  db9813840ff3f21486e36acb4cea6814   \n",
       "3      9c5c42f2685e73a0418017145b5c9937  ecf35b0006aff9707ce64480010a0954   \n",
       "4      fabc01ef9b0a3107c1073b8b1c96aed4  ecf35b0006aff9707ce64480010a0954   \n",
       "...                                 ...                               ...   \n",
       "12395  f85d6a426b1fcf2a39fd431169316b95  2ca4acaefffc1e5ccb5c6ce484f2ab40   \n",
       "12396  4ef8709f3c0f043815a7ad1b9f46984c  60dc3bd5870b1c231929a3d9272550d7   \n",
       "12397  83a89ab577145247dba4cc15291deb34  8cc5dcae76bc7e836aceeb7fa081eb7d   \n",
       "12398  db15b008d5651f9b1deb5cc3aa3956be  67c8924931b4a84515bca92536a59f2c   \n",
       "12399  db15b008d5651f9b1deb5cc3aa3956be  67c8924931b4a84515bca92536a59f2c   \n",
       "\n",
       "                            location_id                              imsi  \\\n",
       "0      95cc6baf49adb6bfe8541827b52f4606  255f33890339291baae8ae4d252da76d   \n",
       "1      1a09a6aff726f26f92bc8cd18c02dcef  458e7ffc512917dfc631b8d0d6fdad03   \n",
       "2      f09543b192e77c6b293910fa58f63e9d  ccb870900822acc2f9d09b14cd460cf7   \n",
       "3      d690bc731cb836090488894e497aecd9  d7ec6e06d5d41589d520ee4c09837c82   \n",
       "4      2f178be611764586663f77e9eed75cea  24e3ca50ca26aaea99b88bc7d6039cf3   \n",
       "...                                 ...                               ...   \n",
       "12395  fcd019e3bfcc7ba320573ea474e04cfd  02d01ce8bd8a166449701acf057127e8   \n",
       "12396  5304941baf455d6b545db3815ef604dc  c06391cb02b3fd66ae69c282269bb5d2   \n",
       "12397  a4a46fd1d2d518b890211d6fb00aca93  27d07ea9164eaf6bbeb62df516f65227   \n",
       "12398  05dea0f19026158ac28267bcbb6a806d  536e578341f8ce2857f3bc5c3acda7d6   \n",
       "12399  05dea0f19026158ac28267bcbb6a806d  536e578341f8ce2857f3bc5c3acda7d6   \n",
       "\n",
       "                                   imei  tac  operator_code  country_code  \\\n",
       "0      ab2eb3bd2db3106312819a89eb9e5dec   17            NaN           NaN   \n",
       "1      4366c901ca19cef095dc8a0773216c09    9            NaN           NaN   \n",
       "2      19d9c2f4744b7e91746e4e758f14f24f   13            NaN           NaN   \n",
       "3      14edb480a90e91b9dd2c05c419c0d2be   10            NaN           NaN   \n",
       "4      3b7c61584ebf3ca5cf46794be0d609db   12            NaN           NaN   \n",
       "...                                 ...  ...            ...           ...   \n",
       "12395  8b45cd285ae50f9b64674d9175166ddb   13            NaN           NaN   \n",
       "12396  8f65a2828a6bf414e5c6e150101fe0f5   19            NaN           NaN   \n",
       "12397  a762d8c56c6dfd54a36b064eadc71d70   12            NaN           NaN   \n",
       "12398  b2fa9765c3b1ac38b29a5b8619fc5ff6    2            NaN           NaN   \n",
       "12399  b2fa9765c3b1ac38b29a5b8619fc5ff6    2            NaN           NaN   \n",
       "\n",
       "       call_date  \n",
       "0     2016-01-01  \n",
       "1     2016-01-01  \n",
       "2     2016-01-01  \n",
       "3     2016-01-01  \n",
       "4     2016-01-01  \n",
       "...          ...  \n",
       "12395 2016-01-31  \n",
       "12396 2016-01-31  \n",
       "12397 2016-01-31  \n",
       "12398 2016-01-31  \n",
       "12399 2016-01-31  \n",
       "\n",
       "[10683 rows x 15 columns]"
      ]
     },
     "execution_count": 24,
     "metadata": {},
     "output_type": "execute_result"
    }
   ],
   "source": [
    "new_cdr"
   ]
  },
  {
   "cell_type": "code",
   "execution_count": 25,
   "id": "35dba260-205a-48ac-8ea9-13bf06f3054d",
   "metadata": {},
   "outputs": [
    {
     "data": {
      "text/plain": [
       "377"
      ]
     },
     "execution_count": 25,
     "metadata": {},
     "output_type": "execute_result"
    }
   ],
   "source": [
    "new_subscriber_count = new_cdr.msisdn.nunique()\n",
    "new_subscriber_count"
   ]
  },
  {
   "cell_type": "code",
   "execution_count": 26,
   "id": "b9a025d9-e296-4064-a88b-90b0b06ff755",
   "metadata": {},
   "outputs": [
    {
     "data": {
      "text/plain": [
       "6083"
      ]
     },
     "execution_count": 26,
     "metadata": {},
     "output_type": "execute_result"
    }
   ],
   "source": [
    "new_event_count = new_cdr.id.nunique()\n",
    "new_event_count"
   ]
  },
  {
   "cell_type": "code",
   "execution_count": 27,
   "id": "5668fc2d-a57d-43a8-a5e3-d2119c9062be",
   "metadata": {},
   "outputs": [
    {
     "name": "stdout",
     "output_type": "stream",
     "text": [
      "Approximately 0.52 events, per subscriber per day.\n"
     ]
    }
   ],
   "source": [
    "new_avg = new_event_count / (new_subscriber_count * days_count)\n",
    "print(f\"Approximately {round(new_avg,2)} events, per subscriber per day.\")"
   ]
  },
  {
   "cell_type": "markdown",
   "id": "fe3fecae-a109-4973-90c4-f7ad1a81823a",
   "metadata": {},
   "source": [
    "### 7. Plot the cell towers and administrative regions"
   ]
  },
  {
   "cell_type": "code",
   "execution_count": 28,
   "id": "17f78204-75e9-45e9-87a6-f77d4ba87d18",
   "metadata": {},
   "outputs": [
    {
     "ename": "NameError",
     "evalue": "name 'admin_boundaries' is not defined",
     "output_type": "error",
     "traceback": [
      "\u001b[1;31m---------------------------------------------------------------------------\u001b[0m",
      "\u001b[1;31mNameError\u001b[0m                                 Traceback (most recent call last)",
      "Cell \u001b[1;32mIn[28], line 1\u001b[0m\n\u001b[1;32m----> 1\u001b[0m admin_boundaries\u001b[38;5;241m.\u001b[39mhead()\n",
      "\u001b[1;31mNameError\u001b[0m: name 'admin_boundaries' is not defined"
     ]
    }
   ],
   "source": [
    "admin_boundaries.head()"
   ]
  },
  {
   "cell_type": "code",
   "execution_count": null,
   "id": "c7aa0492-be77-4020-a1d7-f5e7b8225ff7",
   "metadata": {},
   "outputs": [],
   "source": [
    "fig, ax = plt.subplots(1, 1, figsize=(8, 8))\n",
    "admin_boundaries.plot(alpha=1, edgecolor=\"k\", facecolor=\"none\", ax=ax)\n",
    "cell_towers.plot(alpha=0.6, edgecolor=\"k\", facecolor=\"m\", ax=ax)\n",
    "cx.add_basemap(ax, crs=cell_towers.crs)\n",
    "# plt.show()"
   ]
  },
  {
   "cell_type": "markdown",
   "id": "e3eee516-a3a5-4aeb-9674-843505808ccf",
   "metadata": {},
   "source": [
    "### 8. Spatial join"
   ]
  },
  {
   "cell_type": "code",
   "execution_count": null,
   "id": "2e8b812e-ded0-4b3c-9668-6719b35f7b42",
   "metadata": {},
   "outputs": [],
   "source": [
    "# sjoin denotes a spatial join\n",
    "cells = gpd.sjoin(cell_towers, admin_boundaries)\n",
    "cells"
   ]
  },
  {
   "cell_type": "markdown",
   "id": "3d84d231-8195-4860-816d-d2a569ff658b",
   "metadata": {},
   "source": [
    "### 9. Cell tower counts"
   ]
  },
  {
   "cell_type": "code",
   "execution_count": null,
   "id": "35097af1-a04f-4562-99d6-8309db335cc8",
   "metadata": {},
   "outputs": [],
   "source": [
    "admin_boundaries[\"area_calculated\"] = admin_boundaries.to_crs(epsg=32645).area / (\n",
    "    1000 * 1000\n",
    ")\n",
    "admin_boundaries"
   ]
  },
  {
   "cell_type": "code",
   "execution_count": null,
   "id": "458dcc17-2096-4e86-9593-63740520d5b4",
   "metadata": {},
   "outputs": [],
   "source": [
    "# Cell tower count\n",
    "cells_count = cells.groupby([\"name_1\"])[\"id\"].nunique()\n",
    "cells_count"
   ]
  },
  {
   "cell_type": "code",
   "execution_count": null,
   "id": "8d550b09-6d2a-49ea-87c6-559808b41f00",
   "metadata": {},
   "outputs": [],
   "source": [
    "admin_boundaries = admin_boundaries.merge(cells_count, on=\"name_1\")\n",
    "admin_boundaries"
   ]
  },
  {
   "cell_type": "code",
   "execution_count": null,
   "id": "d675dbd7-883e-4251-9d78-936a5962a4a8",
   "metadata": {},
   "outputs": [],
   "source": [
    "admin_boundaries[\"towers_per_km2\"] = (\n",
    "    admin_boundaries.id_x / admin_boundaries.area_calculated\n",
    ")\n",
    "#admin_boundaries = admin_boundaries.rename(columns={\"id\": \"tower_count\"})\n",
    "admin_boundaries"
   ]
  },
  {
   "cell_type": "markdown",
   "id": "fe7cf87a-002a-4f22-8294-ed30755725ce",
   "metadata": {},
   "source": [
    "### 10. Creation of located CDR"
   ]
  },
  {
   "cell_type": "code",
   "execution_count": null,
   "id": "6434a5ba-26cc-4bdf-b39b-74bd5af2a415",
   "metadata": {},
   "outputs": [],
   "source": [
    "new_cdr = new_cdr.reset_index()"
   ]
  },
  {
   "cell_type": "code",
   "execution_count": null,
   "id": "62b409de-0a0f-42c6-a527-1fb2f220199c",
   "metadata": {},
   "outputs": [],
   "source": [
    "new_cdr"
   ]
  },
  {
   "cell_type": "code",
   "execution_count": null,
   "id": "4d9b4b6c-c739-4262-8b6a-66123763a8ea",
   "metadata": {},
   "outputs": [],
   "source": [
    "located_cdr = new_cdr.merge(cells, left_on=\"location_id\", right_on=\"id\")\n",
    "located_cdr"
   ]
  },
  {
   "cell_type": "code",
   "execution_count": null,
   "id": "cab17513-4042-495c-9ed9-6f2e306fa9f1",
   "metadata": {},
   "outputs": [],
   "source": [
    "# Clean up cdr data\n",
    "located_cdr = located_cdr[[\"msisdn\", \"call_date\", \"datetime\", \"location_id\", \"name_1\"]]\n",
    "located_cdr"
   ]
  },
  {
   "cell_type": "markdown",
   "id": "666f33ba-019d-4c20-9aa3-b33c294e367d",
   "metadata": {},
   "source": [
    "---\n",
    "# Part 2 - Constructing two aggregates\n",
    "To explore this dataset, we first want to have a look at changes in daily subscribers' presence.  \n",
    "For this purpose, we need to compute an aggregate of the total subscribers count, and another of the subscribers counts per-locality (admin_1 level in our case)."
   ]
  },
  {
   "cell_type": "markdown",
   "id": "93eac914-ab65-47c8-b222-e2e746f2b507",
   "metadata": {},
   "source": [
    "### 1. Using `located_cdr`, compute the total (unique) subscribers count per day, for the entirety of the country and time period (one value per day). Only keep resulting values for subscribers counts ≥ 15. We thereafter refer to this result as aggregate 1."
   ]
  },
  {
   "cell_type": "code",
   "execution_count": null,
   "id": "10630d5a-1eca-4923-93dc-45751cd4618c",
   "metadata": {},
   "outputs": [],
   "source": [
    "count_subscribers_total = located_cdr.groupby([\"call_date\"])[\"msisdn\"].nunique()\n",
    "count_subscribers_total = count_subscribers_total[count_subscribers_total >= 15]\n",
    "count_subscribers_total = count_subscribers_total.rename(\"total\")\n",
    "count_subscribers_total"
   ]
  },
  {
   "cell_type": "markdown",
   "id": "52e14424-5431-4647-9472-645162d3b9c6",
   "metadata": {},
   "source": [
    "### 2. Using `located_cdr`, compute the total (unique) subscribers count per day, per locality for the entire time period (one value per day and admin_1 areas pair). Only keep resulting values for subscribers counts ≥ 15. We thereafter refer to this result as aggregate 2."
   ]
  },
  {
   "cell_type": "code",
   "execution_count": null,
   "id": "2ba06286-8ef8-4dc5-ae2c-d2c5384b234a",
   "metadata": {},
   "outputs": [],
   "source": [
    "count_subscribers_per_locality = located_cdr.groupby([\"call_date\", \"name_1\"])[\n",
    "    \"msisdn\"\n",
    "].nunique()\n",
    "count_subscribers_per_locality = count_subscribers_per_locality[\n",
    "    count_subscribers_per_locality >= 15\n",
    "]\n",
    "count_subscribers_per_locality = count_subscribers_per_locality.rename(\"local\")\n",
    "count_subscribers_per_locality\n",
    "\n",
    "# Alternative way to do this:\n",
    "# test = located_cdr.groupby([\"call_date\", \"name_1\"]).filter(lambda x: x.msisdn.nunique() >= 15)\n",
    "# test.groupby([\"call_date\", \"name_1\"])[\"msisdn\"].nunique().unstack()\n",
    "# test"
   ]
  },
  {
   "cell_type": "markdown",
   "id": "8a59004b-8865-4815-9358-7f3c630cf301",
   "metadata": {},
   "source": [
    "### 3. Calculate the sum of subscribers per day, using the previous aggregate 2. Does it correspond to the total subscribers per day values calculated for aggregate 1? If not, can you explain why we observe this difference?"
   ]
  },
  {
   "cell_type": "code",
   "execution_count": null,
   "id": "9b693f2d-9a39-42ab-a82c-1b6e74e54d09",
   "metadata": {},
   "outputs": [],
   "source": [
    "sum_subscribers = count_subscribers_per_locality.unstack().sum(axis=1, skipna=False)\n",
    "sum_subscribers"
   ]
  },
  {
   "cell_type": "markdown",
   "id": "5b97e55c-35b3-48a9-b5ed-a8e5576971a1",
   "metadata": {},
   "source": [
    "Any aggregate that counts the number of unique subscribers that have e.g. visited a certain locality is not 'additive', in the sense that aggregates calculated for the smallest locality size or time interval cannot be summed to compute the value for a larger locality size or time interval. For example, Locality A may be composed of smaller subdivisions a1, a2, and a3. We can count the number of unique subscribers that visited a1, a2, and a3. But because some subscribers may have visited both a1 and a2, we cannot simply sum the number of subscribers that visited each subdivision to obtain the number of unique subscribers that visited Locality A (because subscribers will be counted multiple times if they visited multiple subdivisions). A similar reasoning applies to time intervals."
   ]
  },
  {
   "cell_type": "markdown",
   "id": "ebc731ee-f7cb-4e56-a759-2fef94e8b8e0",
   "metadata": {},
   "source": [
    "---\n",
    "# Part 3 - Constructing an indicator\n",
    "We now are in a situation where we can produce our first mobility indicator.  \n",
    "This first indicator metric will be publicly and widely shared, so we need to make sure it is accurate but also does not compromise any sensitive information. As previously mentioned, you understand that a significant event happened during the time period. "
   ]
  },
  {
   "cell_type": "markdown",
   "id": "6398cfdf-623d-4b7b-b964-b27a16614e27",
   "metadata": {
    "tags": []
   },
   "source": [
    "### 1. Plot the daily count of subscribers for each locality (from previous aggregate 2). Do you observe any particular trend, or abrupt changes? Take note of the date you believe was the start of those changes."
   ]
  },
  {
   "cell_type": "code",
   "execution_count": null,
   "id": "7c931c6f-f6b5-456a-b819-c63e2bf67ff8",
   "metadata": {},
   "outputs": [],
   "source": [
    "fig, ax = plt.subplots(1, 1, figsize=(8, 6))\n",
    "count_subscribers_per_locality.unstack().plot(ax=ax)\n",
    "plt.show()"
   ]
  },
  {
   "cell_type": "markdown",
   "id": "985403e6-51a6-4431-9a37-02025af4153f",
   "metadata": {},
   "source": [
    "We pick the **14-01-2016** as the pivot date, which is the date from which we start seeing abrupt changes in our mobility aggregate."
   ]
  },
  {
   "cell_type": "markdown",
   "id": "a747ad58-4213-4966-9e5c-8472bed08138",
   "metadata": {
    "tags": []
   },
   "source": [
    "### 2. To produce the indicator, we will first need to re-scale the daily data per locality (aggregate 2) by the total subscribers count for the day (aggregate 1). Thus, divide each subscriber count from aggregate 2 by the corresponding total for the same day from aggregate 1. We thereafter refer to this result as step 1."
   ]
  },
  {
   "cell_type": "code",
   "execution_count": null,
   "id": "9085b979-cad0-48e9-9d1b-bc67d5296d52",
   "metadata": {},
   "outputs": [],
   "source": [
    "count_subscribers_per_locality = count_subscribers_per_locality.reset_index(\"name_1\")"
   ]
  },
  {
   "cell_type": "code",
   "execution_count": null,
   "id": "376a5a15-91c2-4917-baad-2723f9d34ca9",
   "metadata": {},
   "outputs": [],
   "source": [
    "# Merge the two datasets\n",
    "step1 = pd.merge(\n",
    "    count_subscribers_per_locality, count_subscribers_total, on=\"call_date\", how=\"left\"\n",
    ")\n",
    "step1"
   ]
  },
  {
   "cell_type": "code",
   "execution_count": null,
   "id": "fe575f5a-b00a-4fe4-b708-2f5598b49e36",
   "metadata": {},
   "outputs": [],
   "source": [
    "# Divide by the total count\n",
    "step1[\"scaled_count\"] = step1.local / step1.total\n",
    "step1"
   ]
  },
  {
   "cell_type": "markdown",
   "id": "e55ff9e4-b29a-42ec-9206-61b12ace7ad2",
   "metadata": {
    "tags": []
   },
   "source": [
    "We will now produce the baseline (i.e. reference period for mobility) based on results from step 1, and the (assumed) date of the event which provoked changes in mobility. Since we are dealing with a smaller CDR dataset, we will produce a baseline from 7 days of data (please keep in mind that it is recommended to use a larger reference period to produce a baseline from a full CDR dataset, e.g. a month of data). \n",
    "### 3. From step 1 results, extract the 7 days of data leading to the date of changes (this date not included) and calculate the median (scaled) count of subscribers over this period (the result should only contain one value per locality). This will be our reference baseline, the baseline scaled subscriber count for each locality. We thereafter refer to this result as the baseline.\n"
   ]
  },
  {
   "cell_type": "code",
   "execution_count": null,
   "id": "86c2048a-6224-4b7e-aa32-4c3ba62323e9",
   "metadata": {},
   "outputs": [],
   "source": [
    "sub = step1[\"2016-01-01\":\"2016-01-14\"]\n",
    "sub"
   ]
  },
  {
   "cell_type": "code",
   "execution_count": null,
   "id": "d5f80a93-c49e-49e6-9472-6fb28e061fe1",
   "metadata": {},
   "outputs": [],
   "source": [
    "baseline = sub.groupby([\"name_1\"])[\"scaled_count\"].median()\n",
    "baseline = baseline.rename(\"baseline\")\n",
    "baseline"
   ]
  },
  {
   "cell_type": "markdown",
   "id": "e07a0b75-a533-48ef-b007-096a5ff920fa",
   "metadata": {
    "tags": []
   },
   "source": [
    "### 4. Finally, we can now produce our mobility indicator “changes in subscriber presence”, or to be precise “daily scaled subscriber count as a percentage change from baseline”. To produce this final result, we need to divide each per day and locality result from step 1 by the corresponding (for the locality) baseline value. Then, you can convert this “proportion of baseline” to percentage values."
   ]
  },
  {
   "cell_type": "code",
   "execution_count": null,
   "id": "521f2ef0-aa15-4546-b4f3-f9479df8bac5",
   "metadata": {},
   "outputs": [],
   "source": [
    "step2 = pd.merge(step1.reset_index(), baseline, on=\"name_1\", how=\"left\")\n",
    "step2 = step2.set_index(\"call_date\")\n",
    "step2"
   ]
  },
  {
   "cell_type": "code",
   "execution_count": null,
   "id": "59cb0467-1f4e-40ec-87e2-e52a973d946d",
   "metadata": {},
   "outputs": [],
   "source": [
    "step2[\"proportion\"] = (step2.scaled_count / step2.baseline - 1) * 100\n",
    "step2"
   ]
  },
  {
   "cell_type": "code",
   "execution_count": null,
   "id": "0afe1f25-8aab-442b-ad17-6b5119e6ac0e",
   "metadata": {},
   "outputs": [],
   "source": [
    "step2_to_plot = step2.pivot(columns=\"name_1\", values=\"proportion\")\n",
    "step2_to_plot"
   ]
  },
  {
   "cell_type": "markdown",
   "id": "4f1024be-a472-46e8-bda1-388b32a5fdbc",
   "metadata": {},
   "source": [
    "### 5. Using the mobility indicator, plot the daily subscribers proportions for each locality. How would you explain the trends you observe from these results? If you had to take a guess, which kind of event could explain this type of mobility?"
   ]
  },
  {
   "cell_type": "code",
   "execution_count": null,
   "id": "7fb8ddff-0a2d-4e36-a121-2cdadd941028",
   "metadata": {},
   "outputs": [],
   "source": [
    "colors = [\"b\", \"g\", \"r\", \"c\", \"m\"]\n",
    "fig, (\n",
    "    ax1,\n",
    "    ax2,\n",
    ") = plt.subplots(2, 1, figsize=(8, 6), sharex=True)\n",
    "step2_to_plot.plot(alpha=0.85, color=colors, ax=ax1)\n",
    "step2_to_plot.plot(alpha=0.2, legend=False, color=colors, ax=ax2)\n",
    "step2_to_plot.rolling(3, closed=\"both\", min_periods=1).median().plot(\n",
    "    alpha=0.85, color=colors, legend=False, ax=ax2\n",
    ")\n",
    "ax2.set_ylim(-30, 30)\n",
    "plt.show()"
   ]
  },
  {
   "cell_type": "markdown",
   "id": "8085b21a-99a8-4888-adb7-70c4b7ef238a",
   "metadata": {},
   "source": [
    "---\n",
    "# Appendix - Further exploration\n",
    "Let us explore this synthetic CDR dataset in more details, to refresh our Python skills and knowledge.  \n",
    "Note that examples based on individual CDR data are **for training purposes only**. With real world data, **information at the individual subscriber level should never be released, due to privacy concerns**."
   ]
  },
  {
   "cell_type": "markdown",
   "id": "7eb7b4cd-191b-48b3-bde4-f28b33a813da",
   "metadata": {},
   "source": [
    "---\n",
    "### 1. Mapping some results from our indicator\n",
    "Below, we map the values for the 20th of January."
   ]
  },
  {
   "cell_type": "code",
   "execution_count": null,
   "id": "7d9cff3a-f03d-448c-a6cd-58c90444bceb",
   "metadata": {},
   "outputs": [],
   "source": [
    "data_20 = step2.loc[\"2016-01-20\"]\n",
    "map_20 = pd.merge(admin_boundaries, data_20, on=\"name_1\", how=\"left\")\n",
    "map_20"
   ]
  },
  {
   "cell_type": "code",
   "execution_count": null,
   "id": "fdba3619-d69a-4191-9e34-de12ea4b93fe",
   "metadata": {},
   "outputs": [],
   "source": [
    "map_20.plot(column=\"proportion\", legend=True)"
   ]
  },
  {
   "cell_type": "markdown",
   "id": "19ca68a8-c383-4d8d-b08b-61afc6d6cf4a",
   "metadata": {
    "tags": []
   },
   "source": [
    "---\n",
    "### 2. How many distinct cell towers has each subscriber been seen at?"
   ]
  },
  {
   "cell_type": "code",
   "execution_count": null,
   "id": "5ff17ff2-bd3a-4b03-9dad-4c7fd554373f",
   "metadata": {
    "tags": []
   },
   "outputs": [],
   "source": [
    "# We group by subscriber, and count for each subscriber the number of unique cell towers visited\n",
    "n = cdr.groupby([\"msisdn\"])[\"location_id\"].nunique()\n",
    "display(n)"
   ]
  },
  {
   "cell_type": "code",
   "execution_count": null,
   "id": "3d6265b8-6474-4cd2-8574-bded95fa0c8c",
   "metadata": {
    "tags": []
   },
   "outputs": [],
   "source": [
    "# Average value of the number of towers\n",
    "m = n.mean()\n",
    "\n",
    "print(\"Each subscriber has been seen at (on average) %s cell towers.\" % (round(m)))"
   ]
  },
  {
   "cell_type": "markdown",
   "id": "c8d778d7-ad6f-4e1b-a7e1-e533a498c603",
   "metadata": {
    "tags": []
   },
   "source": [
    "---\n",
    "### 3. How many distinct admin regions has each subscriber visited?"
   ]
  },
  {
   "cell_type": "code",
   "execution_count": null,
   "id": "023b921e-e7ae-4ad5-96f0-dbcb62747c76",
   "metadata": {
    "tags": []
   },
   "outputs": [],
   "source": [
    "# First, we merge our locality information to the call records\n",
    "n = pd.merge(\n",
    "    cdr, cells, left_on=\"location_id\", right_on=\"id\", how=\"inner\"\n",
    ")\n",
    "\n",
    "# We group by subscriber, and count for each subscriber the number of unique localities visited\n",
    "n = n.groupby([\"msisdn\"])[\"name_1\"].nunique()\n",
    "display(n)"
   ]
  },
  {
   "cell_type": "code",
   "execution_count": null,
   "id": "4b99d4dd-929a-461e-97db-1cf406d6990e",
   "metadata": {
    "tags": []
   },
   "outputs": [],
   "source": [
    "# Average value of the number of localities\n",
    "m = n.mean()\n",
    "\n",
    "print(\"Each subscriber has been seen at (on average) %s localities.\" % (round(m,2)))"
   ]
  },
  {
   "cell_type": "markdown",
   "id": "59f8a911-2e37-4837-ab7d-94b957afe087",
   "metadata": {
    "tags": []
   },
   "source": [
    "---\n",
    "### 4. What is the maximum number of cell towers that anyone has visited in a single day?"
   ]
  },
  {
   "cell_type": "code",
   "execution_count": null,
   "id": "c6960799-808e-4454-8f0b-c32d20cd0fa4",
   "metadata": {
    "tags": []
   },
   "outputs": [],
   "source": [
    "# We group by subscriber and date (days) and count for each subscriber x day combination the number of unique cell towers visited\n",
    "n = cdr.groupby([\"msisdn\", \"call_date\"])[\"location_id\"].nunique()\n",
    "\n",
    "# Maximum number of cell towers visited, from all subscriber x day combinations\n",
    "m = n.max()\n",
    "\n",
    "print(\n",
    "    \"The maximum number of cell towers that anyone has visited in a single day is %s.\"\n",
    "    % (round(m))\n",
    ")"
   ]
  },
  {
   "cell_type": "markdown",
   "id": "9360e3dd-4c3a-4611-834b-3aece624e397",
   "metadata": {
    "tags": []
   },
   "source": [
    "---\n",
    "### 5. What is the maximum number of admin regions that anyone has visited in a single day?"
   ]
  },
  {
   "cell_type": "code",
   "execution_count": null,
   "id": "bdeda89b-c810-4ae3-8878-3563f0c7cdf8",
   "metadata": {
    "tags": []
   },
   "outputs": [],
   "source": [
    "# First, we merge our locality information to the call records\n",
    "n = pd.merge(\n",
    "    cdr, cells, left_on=\"location_id\", right_on=\"id\", how=\"inner\"\n",
    ")\n",
    "\n",
    "# We group by subscriber and date (days) and count for each subscriber x day combination the number of unique localities visited\n",
    "n = n.groupby([\"msisdn\", \"call_date\"])[\"name_1\"].nunique()\n",
    "\n",
    "# Maximum number of localities visited, from all subscriber x day combinations\n",
    "m = n.max()\n",
    "\n",
    "print(\n",
    "    \"The maximum number of localities that anyone has visited in a single day is %s.\"\n",
    "    % (round(m))\n",
    ")"
   ]
  },
  {
   "cell_type": "markdown",
   "id": "def69aa3-966f-4886-90d3-59d7ee7f0e7c",
   "metadata": {
    "tags": []
   },
   "source": [
    "---\n",
    "### 6. How many events are there per day, on average, for each subscriber, only counting days with events?"
   ]
  },
  {
   "cell_type": "code",
   "execution_count": null,
   "id": "689c6585-09b8-4ebd-8db4-5f7e514354af",
   "metadata": {
    "tags": []
   },
   "outputs": [],
   "source": [
    "# We group by subscriber and date (days) and count for each subscriber x day combination the number of call events\n",
    "n = cdr.groupby([\"msisdn\", \"call_date\"])[\"id\"].count()\n",
    "\n",
    "# We can then calculate the average number of events per days (over the 30 days period), for EACH subscriber\n",
    "n = n.groupby([\"msisdn\"]).mean()\n",
    "\n",
    "display(n)"
   ]
  },
  {
   "cell_type": "code",
   "execution_count": null,
   "id": "111fd7cf-8307-40eb-ab27-e33624f61e02",
   "metadata": {
    "tags": []
   },
   "outputs": [],
   "source": [
    "# Average value for ALL subscribers (not each subscribers anymore)\n",
    "m = n.mean()\n",
    "\n",
    "print(\"Each subscriber has %s events per day on average.\" % (round(m, 1)))"
   ]
  },
  {
   "cell_type": "markdown",
   "id": "9834dcbd-1d57-4b3c-a55d-d95242d886fd",
   "metadata": {
    "tags": []
   },
   "source": [
    "---\n",
    "### 7. During which hour(s) of the day is there most activity? When is there least activity?\n",
    "Here, keep in mind that the below method is generally valid, but the results using our synthetic dataset are not very representative of the reality (the synthetic dataset used in this project was NOT produced to study hourly variations)."
   ]
  },
  {
   "cell_type": "code",
   "execution_count": null,
   "id": "163f07d7-9991-4def-9ede-d30a1b003a66",
   "metadata": {
    "tags": []
   },
   "outputs": [],
   "source": [
    "# Here, we group by hour ('datetime.dt.hour'), and count the number of events for each hour\n",
    "n = (\n",
    "    cdr.groupby(cdr[\"datetime\"].dt.hour)[\"id\"]\n",
    "    .count()\n",
    "    .reset_index()\n",
    ")\n",
    "\n",
    "# Let us plot the results to have a look at the data\n",
    "n.plot.bar(x=\"datetime\", y=\"id\")"
   ]
  }
 ],
 "metadata": {
  "kernelspec": {
   "display_name": "Python 3 (ipykernel)",
   "language": "python",
   "name": "python3"
  },
  "language_info": {
   "codemirror_mode": {
    "name": "ipython",
    "version": 3
   },
   "file_extension": ".py",
   "mimetype": "text/x-python",
   "name": "python",
   "nbconvert_exporter": "python",
   "pygments_lexer": "ipython3",
   "version": "3.11.3"
  }
 },
 "nbformat": 4,
 "nbformat_minor": 5
}
